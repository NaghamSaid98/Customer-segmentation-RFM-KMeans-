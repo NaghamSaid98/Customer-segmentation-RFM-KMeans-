{
 "cells": [
  {
   "cell_type": "markdown",
   "metadata": {},
   "source": [
    "# olist E-Commerce\n",
    "## Data Analysis,Visualization and  Customer Segmentation\n"
   ]
  },
  {
   "cell_type": "code",
   "execution_count": 1,
   "metadata": {},
   "outputs": [],
   "source": [
    "# import useful libraries\n",
    "import numpy as np\n",
    "import pandas as pd\n",
    "import matplotlib.pyplot as plt\n",
    "%matplotlib inline\n",
    "import seaborn as sns "
   ]
  },
  {
   "cell_type": "markdown",
   "metadata": {},
   "source": [
    "## 1- Assessing Data"
   ]
  },
  {
   "cell_type": "markdown",
   "metadata": {},
   "source": [
    "### 1- customers table"
   ]
  },
  {
   "cell_type": "code",
   "execution_count": 2,
   "metadata": {},
   "outputs": [],
   "source": [
    "customers = pd.read_csv(\"olist_customers_dataset.csv\")"
   ]
  },
  {
   "cell_type": "code",
   "execution_count": 3,
   "metadata": {},
   "outputs": [
    {
     "data": {
      "text/html": [
       "<div>\n",
       "<style scoped>\n",
       "    .dataframe tbody tr th:only-of-type {\n",
       "        vertical-align: middle;\n",
       "    }\n",
       "\n",
       "    .dataframe tbody tr th {\n",
       "        vertical-align: top;\n",
       "    }\n",
       "\n",
       "    .dataframe thead th {\n",
       "        text-align: right;\n",
       "    }\n",
       "</style>\n",
       "<table border=\"1\" class=\"dataframe\">\n",
       "  <thead>\n",
       "    <tr style=\"text-align: right;\">\n",
       "      <th></th>\n",
       "      <th>customer_id</th>\n",
       "      <th>customer_unique_id</th>\n",
       "      <th>customer_zip_code_prefix</th>\n",
       "      <th>customer_city</th>\n",
       "      <th>customer_state</th>\n",
       "    </tr>\n",
       "  </thead>\n",
       "  <tbody>\n",
       "    <tr>\n",
       "      <th>0</th>\n",
       "      <td>06b8999e2fba1a1fbc88172c00ba8bc7</td>\n",
       "      <td>861eff4711a542e4b93843c6dd7febb0</td>\n",
       "      <td>14409</td>\n",
       "      <td>franca</td>\n",
       "      <td>SP</td>\n",
       "    </tr>\n",
       "    <tr>\n",
       "      <th>1</th>\n",
       "      <td>18955e83d337fd6b2def6b18a428ac77</td>\n",
       "      <td>290c77bc529b7ac935b93aa66c333dc3</td>\n",
       "      <td>9790</td>\n",
       "      <td>sao bernardo do campo</td>\n",
       "      <td>SP</td>\n",
       "    </tr>\n",
       "    <tr>\n",
       "      <th>2</th>\n",
       "      <td>4e7b3e00288586ebd08712fdd0374a03</td>\n",
       "      <td>060e732b5b29e8181a18229c7b0b2b5e</td>\n",
       "      <td>1151</td>\n",
       "      <td>sao paulo</td>\n",
       "      <td>SP</td>\n",
       "    </tr>\n",
       "    <tr>\n",
       "      <th>3</th>\n",
       "      <td>b2b6027bc5c5109e529d4dc6358b12c3</td>\n",
       "      <td>259dac757896d24d7702b9acbbff3f3c</td>\n",
       "      <td>8775</td>\n",
       "      <td>mogi das cruzes</td>\n",
       "      <td>SP</td>\n",
       "    </tr>\n",
       "    <tr>\n",
       "      <th>4</th>\n",
       "      <td>4f2d8ab171c80ec8364f7c12e35b23ad</td>\n",
       "      <td>345ecd01c38d18a9036ed96c73b8d066</td>\n",
       "      <td>13056</td>\n",
       "      <td>campinas</td>\n",
       "      <td>SP</td>\n",
       "    </tr>\n",
       "  </tbody>\n",
       "</table>\n",
       "</div>"
      ],
      "text/plain": [
       "                        customer_id                customer_unique_id  \\\n",
       "0  06b8999e2fba1a1fbc88172c00ba8bc7  861eff4711a542e4b93843c6dd7febb0   \n",
       "1  18955e83d337fd6b2def6b18a428ac77  290c77bc529b7ac935b93aa66c333dc3   \n",
       "2  4e7b3e00288586ebd08712fdd0374a03  060e732b5b29e8181a18229c7b0b2b5e   \n",
       "3  b2b6027bc5c5109e529d4dc6358b12c3  259dac757896d24d7702b9acbbff3f3c   \n",
       "4  4f2d8ab171c80ec8364f7c12e35b23ad  345ecd01c38d18a9036ed96c73b8d066   \n",
       "\n",
       "   customer_zip_code_prefix          customer_city customer_state  \n",
       "0                     14409                 franca             SP  \n",
       "1                      9790  sao bernardo do campo             SP  \n",
       "2                      1151              sao paulo             SP  \n",
       "3                      8775        mogi das cruzes             SP  \n",
       "4                     13056               campinas             SP  "
      ]
     },
     "execution_count": 3,
     "metadata": {},
     "output_type": "execute_result"
    }
   ],
   "source": [
    "customers.head()"
   ]
  },
  {
   "cell_type": "code",
   "execution_count": 4,
   "metadata": {},
   "outputs": [
    {
     "name": "stdout",
     "output_type": "stream",
     "text": [
      "<class 'pandas.core.frame.DataFrame'>\n",
      "RangeIndex: 99441 entries, 0 to 99440\n",
      "Data columns (total 5 columns):\n",
      "customer_id                 99441 non-null object\n",
      "customer_unique_id          99441 non-null object\n",
      "customer_zip_code_prefix    99441 non-null int64\n",
      "customer_city               99441 non-null object\n",
      "customer_state              99441 non-null object\n",
      "dtypes: int64(1), object(4)\n",
      "memory usage: 3.8+ MB\n"
     ]
    }
   ],
   "source": [
    "customers.info()"
   ]
  },
  {
   "cell_type": "code",
   "execution_count": 5,
   "metadata": {
    "scrolled": true
   },
   "outputs": [
    {
     "data": {
      "text/plain": [
       "SP    41746\n",
       "RJ    12852\n",
       "MG    11635\n",
       "RS     5466\n",
       "PR     5045\n",
       "SC     3637\n",
       "BA     3380\n",
       "DF     2140\n",
       "ES     2033\n",
       "GO     2020\n",
       "PE     1652\n",
       "CE     1336\n",
       "PA      975\n",
       "MT      907\n",
       "MA      747\n",
       "MS      715\n",
       "PB      536\n",
       "PI      495\n",
       "RN      485\n",
       "AL      413\n",
       "SE      350\n",
       "TO      280\n",
       "RO      253\n",
       "AM      148\n",
       "AC       81\n",
       "AP       68\n",
       "RR       46\n",
       "Name: customer_state, dtype: int64"
      ]
     },
     "execution_count": 5,
     "metadata": {},
     "output_type": "execute_result"
    }
   ],
   "source": [
    "customers.customer_state.value_counts()"
   ]
  },
  {
   "cell_type": "code",
   "execution_count": 6,
   "metadata": {},
   "outputs": [
    {
     "data": {
      "text/plain": [
       "27"
      ]
     },
     "execution_count": 6,
     "metadata": {},
     "output_type": "execute_result"
    }
   ],
   "source": [
    "customers.customer_state.nunique()"
   ]
  },
  {
   "cell_type": "markdown",
   "metadata": {},
   "source": [
    "### Notes\n",
    "* no missing values .\n",
    "* unuseful column (customer_zip_code_prefix).\n",
    "* customer_unique_id  >> unique identifier of a customer.\n",
    "* customer_id\t>> key to the orders dataset. Each order has a unique customer_id."
   ]
  },
  {
   "cell_type": "markdown",
   "metadata": {},
   "source": [
    "### 2- Items table"
   ]
  },
  {
   "cell_type": "code",
   "execution_count": 7,
   "metadata": {},
   "outputs": [],
   "source": [
    "items = pd.read_csv(\"olist_order_items_dataset.csv\")"
   ]
  },
  {
   "cell_type": "code",
   "execution_count": 8,
   "metadata": {},
   "outputs": [
    {
     "data": {
      "text/html": [
       "<div>\n",
       "<style scoped>\n",
       "    .dataframe tbody tr th:only-of-type {\n",
       "        vertical-align: middle;\n",
       "    }\n",
       "\n",
       "    .dataframe tbody tr th {\n",
       "        vertical-align: top;\n",
       "    }\n",
       "\n",
       "    .dataframe thead th {\n",
       "        text-align: right;\n",
       "    }\n",
       "</style>\n",
       "<table border=\"1\" class=\"dataframe\">\n",
       "  <thead>\n",
       "    <tr style=\"text-align: right;\">\n",
       "      <th></th>\n",
       "      <th>order_id</th>\n",
       "      <th>order_item_id</th>\n",
       "      <th>product_id</th>\n",
       "      <th>seller_id</th>\n",
       "      <th>shipping_limit_date</th>\n",
       "      <th>price</th>\n",
       "      <th>freight_value</th>\n",
       "    </tr>\n",
       "  </thead>\n",
       "  <tbody>\n",
       "    <tr>\n",
       "      <th>0</th>\n",
       "      <td>00010242fe8c5a6d1ba2dd792cb16214</td>\n",
       "      <td>1</td>\n",
       "      <td>4244733e06e7ecb4970a6e2683c13e61</td>\n",
       "      <td>48436dade18ac8b2bce089ec2a041202</td>\n",
       "      <td>2017-09-19 09:45:35</td>\n",
       "      <td>58.90</td>\n",
       "      <td>13.29</td>\n",
       "    </tr>\n",
       "    <tr>\n",
       "      <th>1</th>\n",
       "      <td>00018f77f2f0320c557190d7a144bdd3</td>\n",
       "      <td>1</td>\n",
       "      <td>e5f2d52b802189ee658865ca93d83a8f</td>\n",
       "      <td>dd7ddc04e1b6c2c614352b383efe2d36</td>\n",
       "      <td>2017-05-03 11:05:13</td>\n",
       "      <td>239.90</td>\n",
       "      <td>19.93</td>\n",
       "    </tr>\n",
       "    <tr>\n",
       "      <th>2</th>\n",
       "      <td>000229ec398224ef6ca0657da4fc703e</td>\n",
       "      <td>1</td>\n",
       "      <td>c777355d18b72b67abbeef9df44fd0fd</td>\n",
       "      <td>5b51032eddd242adc84c38acab88f23d</td>\n",
       "      <td>2018-01-18 14:48:30</td>\n",
       "      <td>199.00</td>\n",
       "      <td>17.87</td>\n",
       "    </tr>\n",
       "    <tr>\n",
       "      <th>3</th>\n",
       "      <td>00024acbcdf0a6daa1e931b038114c75</td>\n",
       "      <td>1</td>\n",
       "      <td>7634da152a4610f1595efa32f14722fc</td>\n",
       "      <td>9d7a1d34a5052409006425275ba1c2b4</td>\n",
       "      <td>2018-08-15 10:10:18</td>\n",
       "      <td>12.99</td>\n",
       "      <td>12.79</td>\n",
       "    </tr>\n",
       "    <tr>\n",
       "      <th>4</th>\n",
       "      <td>00042b26cf59d7ce69dfabb4e55b4fd9</td>\n",
       "      <td>1</td>\n",
       "      <td>ac6c3623068f30de03045865e4e10089</td>\n",
       "      <td>df560393f3a51e74553ab94004ba5c87</td>\n",
       "      <td>2017-02-13 13:57:51</td>\n",
       "      <td>199.90</td>\n",
       "      <td>18.14</td>\n",
       "    </tr>\n",
       "  </tbody>\n",
       "</table>\n",
       "</div>"
      ],
      "text/plain": [
       "                           order_id  order_item_id  \\\n",
       "0  00010242fe8c5a6d1ba2dd792cb16214              1   \n",
       "1  00018f77f2f0320c557190d7a144bdd3              1   \n",
       "2  000229ec398224ef6ca0657da4fc703e              1   \n",
       "3  00024acbcdf0a6daa1e931b038114c75              1   \n",
       "4  00042b26cf59d7ce69dfabb4e55b4fd9              1   \n",
       "\n",
       "                         product_id                         seller_id  \\\n",
       "0  4244733e06e7ecb4970a6e2683c13e61  48436dade18ac8b2bce089ec2a041202   \n",
       "1  e5f2d52b802189ee658865ca93d83a8f  dd7ddc04e1b6c2c614352b383efe2d36   \n",
       "2  c777355d18b72b67abbeef9df44fd0fd  5b51032eddd242adc84c38acab88f23d   \n",
       "3  7634da152a4610f1595efa32f14722fc  9d7a1d34a5052409006425275ba1c2b4   \n",
       "4  ac6c3623068f30de03045865e4e10089  df560393f3a51e74553ab94004ba5c87   \n",
       "\n",
       "   shipping_limit_date   price  freight_value  \n",
       "0  2017-09-19 09:45:35   58.90          13.29  \n",
       "1  2017-05-03 11:05:13  239.90          19.93  \n",
       "2  2018-01-18 14:48:30  199.00          17.87  \n",
       "3  2018-08-15 10:10:18   12.99          12.79  \n",
       "4  2017-02-13 13:57:51  199.90          18.14  "
      ]
     },
     "execution_count": 8,
     "metadata": {},
     "output_type": "execute_result"
    }
   ],
   "source": [
    "items.head()"
   ]
  },
  {
   "cell_type": "code",
   "execution_count": 9,
   "metadata": {},
   "outputs": [
    {
     "name": "stdout",
     "output_type": "stream",
     "text": [
      "<class 'pandas.core.frame.DataFrame'>\n",
      "RangeIndex: 112650 entries, 0 to 112649\n",
      "Data columns (total 7 columns):\n",
      "order_id               112650 non-null object\n",
      "order_item_id          112650 non-null int64\n",
      "product_id             112650 non-null object\n",
      "seller_id              112650 non-null object\n",
      "shipping_limit_date    112650 non-null object\n",
      "price                  112650 non-null float64\n",
      "freight_value          112650 non-null float64\n",
      "dtypes: float64(2), int64(1), object(4)\n",
      "memory usage: 6.0+ MB\n"
     ]
    }
   ],
   "source": [
    "items.info()"
   ]
  },
  {
   "cell_type": "markdown",
   "metadata": {},
   "source": [
    "### Notes\n",
    "* no missing values\n",
    "* order_item_id >> sequential number identifying number of items included in the same order.\n",
    "* item freight value item (if an order has more than one item the freight value is splitted between items)"
   ]
  },
  {
   "cell_type": "markdown",
   "metadata": {},
   "source": [
    "### 3- payment table"
   ]
  },
  {
   "cell_type": "code",
   "execution_count": 10,
   "metadata": {},
   "outputs": [],
   "source": [
    "payment =pd.read_csv(\"olist_order_payments_dataset.csv\")"
   ]
  },
  {
   "cell_type": "code",
   "execution_count": 11,
   "metadata": {},
   "outputs": [
    {
     "data": {
      "text/html": [
       "<div>\n",
       "<style scoped>\n",
       "    .dataframe tbody tr th:only-of-type {\n",
       "        vertical-align: middle;\n",
       "    }\n",
       "\n",
       "    .dataframe tbody tr th {\n",
       "        vertical-align: top;\n",
       "    }\n",
       "\n",
       "    .dataframe thead th {\n",
       "        text-align: right;\n",
       "    }\n",
       "</style>\n",
       "<table border=\"1\" class=\"dataframe\">\n",
       "  <thead>\n",
       "    <tr style=\"text-align: right;\">\n",
       "      <th></th>\n",
       "      <th>order_id</th>\n",
       "      <th>payment_sequential</th>\n",
       "      <th>payment_type</th>\n",
       "      <th>payment_installments</th>\n",
       "      <th>payment_value</th>\n",
       "    </tr>\n",
       "  </thead>\n",
       "  <tbody>\n",
       "    <tr>\n",
       "      <th>0</th>\n",
       "      <td>b81ef226f3fe1789b1e8b2acac839d17</td>\n",
       "      <td>1</td>\n",
       "      <td>credit_card</td>\n",
       "      <td>8</td>\n",
       "      <td>99.33</td>\n",
       "    </tr>\n",
       "    <tr>\n",
       "      <th>1</th>\n",
       "      <td>a9810da82917af2d9aefd1278f1dcfa0</td>\n",
       "      <td>1</td>\n",
       "      <td>credit_card</td>\n",
       "      <td>1</td>\n",
       "      <td>24.39</td>\n",
       "    </tr>\n",
       "    <tr>\n",
       "      <th>2</th>\n",
       "      <td>25e8ea4e93396b6fa0d3dd708e76c1bd</td>\n",
       "      <td>1</td>\n",
       "      <td>credit_card</td>\n",
       "      <td>1</td>\n",
       "      <td>65.71</td>\n",
       "    </tr>\n",
       "    <tr>\n",
       "      <th>3</th>\n",
       "      <td>ba78997921bbcdc1373bb41e913ab953</td>\n",
       "      <td>1</td>\n",
       "      <td>credit_card</td>\n",
       "      <td>8</td>\n",
       "      <td>107.78</td>\n",
       "    </tr>\n",
       "    <tr>\n",
       "      <th>4</th>\n",
       "      <td>42fdf880ba16b47b59251dd489d4441a</td>\n",
       "      <td>1</td>\n",
       "      <td>credit_card</td>\n",
       "      <td>2</td>\n",
       "      <td>128.45</td>\n",
       "    </tr>\n",
       "  </tbody>\n",
       "</table>\n",
       "</div>"
      ],
      "text/plain": [
       "                           order_id  payment_sequential payment_type  \\\n",
       "0  b81ef226f3fe1789b1e8b2acac839d17                   1  credit_card   \n",
       "1  a9810da82917af2d9aefd1278f1dcfa0                   1  credit_card   \n",
       "2  25e8ea4e93396b6fa0d3dd708e76c1bd                   1  credit_card   \n",
       "3  ba78997921bbcdc1373bb41e913ab953                   1  credit_card   \n",
       "4  42fdf880ba16b47b59251dd489d4441a                   1  credit_card   \n",
       "\n",
       "   payment_installments  payment_value  \n",
       "0                     8          99.33  \n",
       "1                     1          24.39  \n",
       "2                     1          65.71  \n",
       "3                     8         107.78  \n",
       "4                     2         128.45  "
      ]
     },
     "execution_count": 11,
     "metadata": {},
     "output_type": "execute_result"
    }
   ],
   "source": [
    "payment.head()"
   ]
  },
  {
   "cell_type": "code",
   "execution_count": 12,
   "metadata": {},
   "outputs": [
    {
     "name": "stdout",
     "output_type": "stream",
     "text": [
      "<class 'pandas.core.frame.DataFrame'>\n",
      "RangeIndex: 103886 entries, 0 to 103885\n",
      "Data columns (total 5 columns):\n",
      "order_id                103886 non-null object\n",
      "payment_sequential      103886 non-null int64\n",
      "payment_type            103886 non-null object\n",
      "payment_installments    103886 non-null int64\n",
      "payment_value           103886 non-null float64\n",
      "dtypes: float64(1), int64(2), object(2)\n",
      "memory usage: 4.0+ MB\n"
     ]
    }
   ],
   "source": [
    "payment.info()"
   ]
  },
  {
   "cell_type": "code",
   "execution_count": 13,
   "metadata": {},
   "outputs": [
    {
     "data": {
      "text/plain": [
       "credit_card    76795\n",
       "boleto         19784\n",
       "voucher         5775\n",
       "debit_card      1529\n",
       "not_defined        3\n",
       "Name: payment_type, dtype: int64"
      ]
     },
     "execution_count": 13,
     "metadata": {},
     "output_type": "execute_result"
    }
   ],
   "source": [
    "payment.payment_type.value_counts()"
   ]
  },
  {
   "cell_type": "markdown",
   "metadata": {},
   "source": [
    "### Notes\n",
    "* no missing values\n",
    "* payment_sequential >> a customer may pay an order with more than one payment method. If he does so, a sequence will be created to.\n",
    "* item freight value item (if an order has more than one item the freight value is splitted between items)\n",
    "* payment_installments >> number of installments chosen by the customer.\n",
    "* payment_value >> transaction value."
   ]
  },
  {
   "cell_type": "markdown",
   "metadata": {},
   "source": [
    "### 4- reviews table"
   ]
  },
  {
   "cell_type": "code",
   "execution_count": 14,
   "metadata": {},
   "outputs": [],
   "source": [
    "reviews=pd.read_csv(\"olist_order_reviews_dataset.csv\")"
   ]
  },
  {
   "cell_type": "code",
   "execution_count": 15,
   "metadata": {},
   "outputs": [
    {
     "data": {
      "text/html": [
       "<div>\n",
       "<style scoped>\n",
       "    .dataframe tbody tr th:only-of-type {\n",
       "        vertical-align: middle;\n",
       "    }\n",
       "\n",
       "    .dataframe tbody tr th {\n",
       "        vertical-align: top;\n",
       "    }\n",
       "\n",
       "    .dataframe thead th {\n",
       "        text-align: right;\n",
       "    }\n",
       "</style>\n",
       "<table border=\"1\" class=\"dataframe\">\n",
       "  <thead>\n",
       "    <tr style=\"text-align: right;\">\n",
       "      <th></th>\n",
       "      <th>review_id</th>\n",
       "      <th>order_id</th>\n",
       "      <th>review_score</th>\n",
       "      <th>review_comment_title</th>\n",
       "      <th>review_comment_message</th>\n",
       "      <th>review_creation_date</th>\n",
       "      <th>review_answer_timestamp</th>\n",
       "    </tr>\n",
       "  </thead>\n",
       "  <tbody>\n",
       "    <tr>\n",
       "      <th>0</th>\n",
       "      <td>7bc2406110b926393aa56f80a40eba40</td>\n",
       "      <td>73fc7af87114b39712e6da79b0a377eb</td>\n",
       "      <td>4</td>\n",
       "      <td>NaN</td>\n",
       "      <td>NaN</td>\n",
       "      <td>2018-01-18 00:00:00</td>\n",
       "      <td>2018-01-18 21:46:59</td>\n",
       "    </tr>\n",
       "    <tr>\n",
       "      <th>1</th>\n",
       "      <td>80e641a11e56f04c1ad469d5645fdfde</td>\n",
       "      <td>a548910a1c6147796b98fdf73dbeba33</td>\n",
       "      <td>5</td>\n",
       "      <td>NaN</td>\n",
       "      <td>NaN</td>\n",
       "      <td>2018-03-10 00:00:00</td>\n",
       "      <td>2018-03-11 03:05:13</td>\n",
       "    </tr>\n",
       "    <tr>\n",
       "      <th>2</th>\n",
       "      <td>228ce5500dc1d8e020d8d1322874b6f0</td>\n",
       "      <td>f9e4b658b201a9f2ecdecbb34bed034b</td>\n",
       "      <td>5</td>\n",
       "      <td>NaN</td>\n",
       "      <td>NaN</td>\n",
       "      <td>2018-02-17 00:00:00</td>\n",
       "      <td>2018-02-18 14:36:24</td>\n",
       "    </tr>\n",
       "    <tr>\n",
       "      <th>3</th>\n",
       "      <td>e64fb393e7b32834bb789ff8bb30750e</td>\n",
       "      <td>658677c97b385a9be170737859d3511b</td>\n",
       "      <td>5</td>\n",
       "      <td>NaN</td>\n",
       "      <td>Recebi bem antes do prazo estipulado.</td>\n",
       "      <td>2017-04-21 00:00:00</td>\n",
       "      <td>2017-04-21 22:02:06</td>\n",
       "    </tr>\n",
       "    <tr>\n",
       "      <th>4</th>\n",
       "      <td>f7c4243c7fe1938f181bec41a392bdeb</td>\n",
       "      <td>8e6bfb81e283fa7e4f11123a3fb894f1</td>\n",
       "      <td>5</td>\n",
       "      <td>NaN</td>\n",
       "      <td>Parabéns lojas lannister adorei comprar pela I...</td>\n",
       "      <td>2018-03-01 00:00:00</td>\n",
       "      <td>2018-03-02 10:26:53</td>\n",
       "    </tr>\n",
       "  </tbody>\n",
       "</table>\n",
       "</div>"
      ],
      "text/plain": [
       "                          review_id                          order_id  \\\n",
       "0  7bc2406110b926393aa56f80a40eba40  73fc7af87114b39712e6da79b0a377eb   \n",
       "1  80e641a11e56f04c1ad469d5645fdfde  a548910a1c6147796b98fdf73dbeba33   \n",
       "2  228ce5500dc1d8e020d8d1322874b6f0  f9e4b658b201a9f2ecdecbb34bed034b   \n",
       "3  e64fb393e7b32834bb789ff8bb30750e  658677c97b385a9be170737859d3511b   \n",
       "4  f7c4243c7fe1938f181bec41a392bdeb  8e6bfb81e283fa7e4f11123a3fb894f1   \n",
       "\n",
       "   review_score review_comment_title  \\\n",
       "0             4                  NaN   \n",
       "1             5                  NaN   \n",
       "2             5                  NaN   \n",
       "3             5                  NaN   \n",
       "4             5                  NaN   \n",
       "\n",
       "                              review_comment_message review_creation_date  \\\n",
       "0                                                NaN  2018-01-18 00:00:00   \n",
       "1                                                NaN  2018-03-10 00:00:00   \n",
       "2                                                NaN  2018-02-17 00:00:00   \n",
       "3              Recebi bem antes do prazo estipulado.  2017-04-21 00:00:00   \n",
       "4  Parabéns lojas lannister adorei comprar pela I...  2018-03-01 00:00:00   \n",
       "\n",
       "  review_answer_timestamp  \n",
       "0     2018-01-18 21:46:59  \n",
       "1     2018-03-11 03:05:13  \n",
       "2     2018-02-18 14:36:24  \n",
       "3     2017-04-21 22:02:06  \n",
       "4     2018-03-02 10:26:53  "
      ]
     },
     "execution_count": 15,
     "metadata": {},
     "output_type": "execute_result"
    }
   ],
   "source": [
    "reviews.head()"
   ]
  },
  {
   "cell_type": "code",
   "execution_count": 16,
   "metadata": {},
   "outputs": [
    {
     "name": "stdout",
     "output_type": "stream",
     "text": [
      "<class 'pandas.core.frame.DataFrame'>\n",
      "RangeIndex: 100000 entries, 0 to 99999\n",
      "Data columns (total 7 columns):\n",
      "review_id                  100000 non-null object\n",
      "order_id                   100000 non-null object\n",
      "review_score               100000 non-null int64\n",
      "review_comment_title       11715 non-null object\n",
      "review_comment_message     41753 non-null object\n",
      "review_creation_date       100000 non-null object\n",
      "review_answer_timestamp    100000 non-null object\n",
      "dtypes: int64(1), object(6)\n",
      "memory usage: 5.3+ MB\n"
     ]
    }
   ],
   "source": [
    "reviews.info()"
   ]
  },
  {
   "cell_type": "code",
   "execution_count": 17,
   "metadata": {},
   "outputs": [
    {
     "data": {
      "text/plain": [
       "5    57420\n",
       "4    19200\n",
       "1    11858\n",
       "3     8287\n",
       "2     3235\n",
       "Name: review_score, dtype: int64"
      ]
     },
     "execution_count": 17,
     "metadata": {},
     "output_type": "execute_result"
    }
   ],
   "source": [
    "reviews.review_score.value_counts()"
   ]
  },
  {
   "cell_type": "markdown",
   "metadata": {},
   "source": [
    "### Notes\n",
    "*  missing values (review_comment_title & review_comment_message )\n",
    "* unuseful columns (review_comment_title & review_comment_message &\treview_creation_date & review_answer_timestamp)"
   ]
  },
  {
   "cell_type": "markdown",
   "metadata": {},
   "source": [
    "### 5- orders table"
   ]
  },
  {
   "cell_type": "code",
   "execution_count": 18,
   "metadata": {},
   "outputs": [],
   "source": [
    "orders=pd.read_csv(\"olist_orders_dataset.csv\")"
   ]
  },
  {
   "cell_type": "code",
   "execution_count": 19,
   "metadata": {},
   "outputs": [
    {
     "data": {
      "text/html": [
       "<div>\n",
       "<style scoped>\n",
       "    .dataframe tbody tr th:only-of-type {\n",
       "        vertical-align: middle;\n",
       "    }\n",
       "\n",
       "    .dataframe tbody tr th {\n",
       "        vertical-align: top;\n",
       "    }\n",
       "\n",
       "    .dataframe thead th {\n",
       "        text-align: right;\n",
       "    }\n",
       "</style>\n",
       "<table border=\"1\" class=\"dataframe\">\n",
       "  <thead>\n",
       "    <tr style=\"text-align: right;\">\n",
       "      <th></th>\n",
       "      <th>order_id</th>\n",
       "      <th>customer_id</th>\n",
       "      <th>order_status</th>\n",
       "      <th>order_purchase_timestamp</th>\n",
       "      <th>order_approved_at</th>\n",
       "      <th>order_delivered_carrier_date</th>\n",
       "      <th>order_delivered_customer_date</th>\n",
       "      <th>order_estimated_delivery_date</th>\n",
       "    </tr>\n",
       "  </thead>\n",
       "  <tbody>\n",
       "    <tr>\n",
       "      <th>0</th>\n",
       "      <td>e481f51cbdc54678b7cc49136f2d6af7</td>\n",
       "      <td>9ef432eb6251297304e76186b10a928d</td>\n",
       "      <td>delivered</td>\n",
       "      <td>2017-10-02 10:56:33</td>\n",
       "      <td>2017-10-02 11:07:15</td>\n",
       "      <td>2017-10-04 19:55:00</td>\n",
       "      <td>2017-10-10 21:25:13</td>\n",
       "      <td>2017-10-18 00:00:00</td>\n",
       "    </tr>\n",
       "    <tr>\n",
       "      <th>1</th>\n",
       "      <td>53cdb2fc8bc7dce0b6741e2150273451</td>\n",
       "      <td>b0830fb4747a6c6d20dea0b8c802d7ef</td>\n",
       "      <td>delivered</td>\n",
       "      <td>2018-07-24 20:41:37</td>\n",
       "      <td>2018-07-26 03:24:27</td>\n",
       "      <td>2018-07-26 14:31:00</td>\n",
       "      <td>2018-08-07 15:27:45</td>\n",
       "      <td>2018-08-13 00:00:00</td>\n",
       "    </tr>\n",
       "    <tr>\n",
       "      <th>2</th>\n",
       "      <td>47770eb9100c2d0c44946d9cf07ec65d</td>\n",
       "      <td>41ce2a54c0b03bf3443c3d931a367089</td>\n",
       "      <td>delivered</td>\n",
       "      <td>2018-08-08 08:38:49</td>\n",
       "      <td>2018-08-08 08:55:23</td>\n",
       "      <td>2018-08-08 13:50:00</td>\n",
       "      <td>2018-08-17 18:06:29</td>\n",
       "      <td>2018-09-04 00:00:00</td>\n",
       "    </tr>\n",
       "    <tr>\n",
       "      <th>3</th>\n",
       "      <td>949d5b44dbf5de918fe9c16f97b45f8a</td>\n",
       "      <td>f88197465ea7920adcdbec7375364d82</td>\n",
       "      <td>delivered</td>\n",
       "      <td>2017-11-18 19:28:06</td>\n",
       "      <td>2017-11-18 19:45:59</td>\n",
       "      <td>2017-11-22 13:39:59</td>\n",
       "      <td>2017-12-02 00:28:42</td>\n",
       "      <td>2017-12-15 00:00:00</td>\n",
       "    </tr>\n",
       "    <tr>\n",
       "      <th>4</th>\n",
       "      <td>ad21c59c0840e6cb83a9ceb5573f8159</td>\n",
       "      <td>8ab97904e6daea8866dbdbc4fb7aad2c</td>\n",
       "      <td>delivered</td>\n",
       "      <td>2018-02-13 21:18:39</td>\n",
       "      <td>2018-02-13 22:20:29</td>\n",
       "      <td>2018-02-14 19:46:34</td>\n",
       "      <td>2018-02-16 18:17:02</td>\n",
       "      <td>2018-02-26 00:00:00</td>\n",
       "    </tr>\n",
       "  </tbody>\n",
       "</table>\n",
       "</div>"
      ],
      "text/plain": [
       "                           order_id                       customer_id  \\\n",
       "0  e481f51cbdc54678b7cc49136f2d6af7  9ef432eb6251297304e76186b10a928d   \n",
       "1  53cdb2fc8bc7dce0b6741e2150273451  b0830fb4747a6c6d20dea0b8c802d7ef   \n",
       "2  47770eb9100c2d0c44946d9cf07ec65d  41ce2a54c0b03bf3443c3d931a367089   \n",
       "3  949d5b44dbf5de918fe9c16f97b45f8a  f88197465ea7920adcdbec7375364d82   \n",
       "4  ad21c59c0840e6cb83a9ceb5573f8159  8ab97904e6daea8866dbdbc4fb7aad2c   \n",
       "\n",
       "  order_status order_purchase_timestamp    order_approved_at  \\\n",
       "0    delivered      2017-10-02 10:56:33  2017-10-02 11:07:15   \n",
       "1    delivered      2018-07-24 20:41:37  2018-07-26 03:24:27   \n",
       "2    delivered      2018-08-08 08:38:49  2018-08-08 08:55:23   \n",
       "3    delivered      2017-11-18 19:28:06  2017-11-18 19:45:59   \n",
       "4    delivered      2018-02-13 21:18:39  2018-02-13 22:20:29   \n",
       "\n",
       "  order_delivered_carrier_date order_delivered_customer_date  \\\n",
       "0          2017-10-04 19:55:00           2017-10-10 21:25:13   \n",
       "1          2018-07-26 14:31:00           2018-08-07 15:27:45   \n",
       "2          2018-08-08 13:50:00           2018-08-17 18:06:29   \n",
       "3          2017-11-22 13:39:59           2017-12-02 00:28:42   \n",
       "4          2018-02-14 19:46:34           2018-02-16 18:17:02   \n",
       "\n",
       "  order_estimated_delivery_date  \n",
       "0           2017-10-18 00:00:00  \n",
       "1           2018-08-13 00:00:00  \n",
       "2           2018-09-04 00:00:00  \n",
       "3           2017-12-15 00:00:00  \n",
       "4           2018-02-26 00:00:00  "
      ]
     },
     "execution_count": 19,
     "metadata": {},
     "output_type": "execute_result"
    }
   ],
   "source": [
    "orders.head()"
   ]
  },
  {
   "cell_type": "code",
   "execution_count": 20,
   "metadata": {},
   "outputs": [
    {
     "name": "stdout",
     "output_type": "stream",
     "text": [
      "<class 'pandas.core.frame.DataFrame'>\n",
      "RangeIndex: 99441 entries, 0 to 99440\n",
      "Data columns (total 8 columns):\n",
      "order_id                         99441 non-null object\n",
      "customer_id                      99441 non-null object\n",
      "order_status                     99441 non-null object\n",
      "order_purchase_timestamp         99441 non-null object\n",
      "order_approved_at                99281 non-null object\n",
      "order_delivered_carrier_date     97658 non-null object\n",
      "order_delivered_customer_date    96476 non-null object\n",
      "order_estimated_delivery_date    99441 non-null object\n",
      "dtypes: object(8)\n",
      "memory usage: 6.1+ MB\n"
     ]
    }
   ],
   "source": [
    "orders.info()"
   ]
  },
  {
   "cell_type": "markdown",
   "metadata": {},
   "source": [
    "### Notes\n",
    "* missing values (order_approved_at , order_delivered_carrier_date, order_delivered_customer_date).\n",
    "* unuseful columns (order_delivered_carrier_date)."
   ]
  },
  {
   "cell_type": "markdown",
   "metadata": {},
   "source": [
    "### 6- products table"
   ]
  },
  {
   "cell_type": "code",
   "execution_count": 21,
   "metadata": {},
   "outputs": [],
   "source": [
    "products =pd.read_csv(\"olist_products_dataset.csv\")"
   ]
  },
  {
   "cell_type": "code",
   "execution_count": 22,
   "metadata": {},
   "outputs": [
    {
     "data": {
      "text/html": [
       "<div>\n",
       "<style scoped>\n",
       "    .dataframe tbody tr th:only-of-type {\n",
       "        vertical-align: middle;\n",
       "    }\n",
       "\n",
       "    .dataframe tbody tr th {\n",
       "        vertical-align: top;\n",
       "    }\n",
       "\n",
       "    .dataframe thead th {\n",
       "        text-align: right;\n",
       "    }\n",
       "</style>\n",
       "<table border=\"1\" class=\"dataframe\">\n",
       "  <thead>\n",
       "    <tr style=\"text-align: right;\">\n",
       "      <th></th>\n",
       "      <th>product_id</th>\n",
       "      <th>product_category_name</th>\n",
       "      <th>product_name_lenght</th>\n",
       "      <th>product_description_lenght</th>\n",
       "      <th>product_photos_qty</th>\n",
       "      <th>product_weight_g</th>\n",
       "      <th>product_length_cm</th>\n",
       "      <th>product_height_cm</th>\n",
       "      <th>product_width_cm</th>\n",
       "    </tr>\n",
       "  </thead>\n",
       "  <tbody>\n",
       "    <tr>\n",
       "      <th>0</th>\n",
       "      <td>1e9e8ef04dbcff4541ed26657ea517e5</td>\n",
       "      <td>perfumaria</td>\n",
       "      <td>40.0</td>\n",
       "      <td>287.0</td>\n",
       "      <td>1.0</td>\n",
       "      <td>225.0</td>\n",
       "      <td>16.0</td>\n",
       "      <td>10.0</td>\n",
       "      <td>14.0</td>\n",
       "    </tr>\n",
       "    <tr>\n",
       "      <th>1</th>\n",
       "      <td>3aa071139cb16b67ca9e5dea641aaa2f</td>\n",
       "      <td>artes</td>\n",
       "      <td>44.0</td>\n",
       "      <td>276.0</td>\n",
       "      <td>1.0</td>\n",
       "      <td>1000.0</td>\n",
       "      <td>30.0</td>\n",
       "      <td>18.0</td>\n",
       "      <td>20.0</td>\n",
       "    </tr>\n",
       "    <tr>\n",
       "      <th>2</th>\n",
       "      <td>96bd76ec8810374ed1b65e291975717f</td>\n",
       "      <td>esporte_lazer</td>\n",
       "      <td>46.0</td>\n",
       "      <td>250.0</td>\n",
       "      <td>1.0</td>\n",
       "      <td>154.0</td>\n",
       "      <td>18.0</td>\n",
       "      <td>9.0</td>\n",
       "      <td>15.0</td>\n",
       "    </tr>\n",
       "    <tr>\n",
       "      <th>3</th>\n",
       "      <td>cef67bcfe19066a932b7673e239eb23d</td>\n",
       "      <td>bebes</td>\n",
       "      <td>27.0</td>\n",
       "      <td>261.0</td>\n",
       "      <td>1.0</td>\n",
       "      <td>371.0</td>\n",
       "      <td>26.0</td>\n",
       "      <td>4.0</td>\n",
       "      <td>26.0</td>\n",
       "    </tr>\n",
       "    <tr>\n",
       "      <th>4</th>\n",
       "      <td>9dc1a7de274444849c219cff195d0b71</td>\n",
       "      <td>utilidades_domesticas</td>\n",
       "      <td>37.0</td>\n",
       "      <td>402.0</td>\n",
       "      <td>4.0</td>\n",
       "      <td>625.0</td>\n",
       "      <td>20.0</td>\n",
       "      <td>17.0</td>\n",
       "      <td>13.0</td>\n",
       "    </tr>\n",
       "  </tbody>\n",
       "</table>\n",
       "</div>"
      ],
      "text/plain": [
       "                         product_id  product_category_name  \\\n",
       "0  1e9e8ef04dbcff4541ed26657ea517e5             perfumaria   \n",
       "1  3aa071139cb16b67ca9e5dea641aaa2f                  artes   \n",
       "2  96bd76ec8810374ed1b65e291975717f          esporte_lazer   \n",
       "3  cef67bcfe19066a932b7673e239eb23d                  bebes   \n",
       "4  9dc1a7de274444849c219cff195d0b71  utilidades_domesticas   \n",
       "\n",
       "   product_name_lenght  product_description_lenght  product_photos_qty  \\\n",
       "0                 40.0                       287.0                 1.0   \n",
       "1                 44.0                       276.0                 1.0   \n",
       "2                 46.0                       250.0                 1.0   \n",
       "3                 27.0                       261.0                 1.0   \n",
       "4                 37.0                       402.0                 4.0   \n",
       "\n",
       "   product_weight_g  product_length_cm  product_height_cm  product_width_cm  \n",
       "0             225.0               16.0               10.0              14.0  \n",
       "1            1000.0               30.0               18.0              20.0  \n",
       "2             154.0               18.0                9.0              15.0  \n",
       "3             371.0               26.0                4.0              26.0  \n",
       "4             625.0               20.0               17.0              13.0  "
      ]
     },
     "execution_count": 22,
     "metadata": {},
     "output_type": "execute_result"
    }
   ],
   "source": [
    "products.head()"
   ]
  },
  {
   "cell_type": "code",
   "execution_count": 23,
   "metadata": {},
   "outputs": [
    {
     "name": "stdout",
     "output_type": "stream",
     "text": [
      "<class 'pandas.core.frame.DataFrame'>\n",
      "RangeIndex: 32951 entries, 0 to 32950\n",
      "Data columns (total 9 columns):\n",
      "product_id                    32951 non-null object\n",
      "product_category_name         32341 non-null object\n",
      "product_name_lenght           32341 non-null float64\n",
      "product_description_lenght    32341 non-null float64\n",
      "product_photos_qty            32341 non-null float64\n",
      "product_weight_g              32949 non-null float64\n",
      "product_length_cm             32949 non-null float64\n",
      "product_height_cm             32949 non-null float64\n",
      "product_width_cm              32949 non-null float64\n",
      "dtypes: float64(7), object(2)\n",
      "memory usage: 2.3+ MB\n"
     ]
    }
   ],
   "source": [
    "products.info()"
   ]
  },
  {
   "cell_type": "code",
   "execution_count": 24,
   "metadata": {},
   "outputs": [
    {
     "data": {
      "text/plain": [
       "73"
      ]
     },
     "execution_count": 24,
     "metadata": {},
     "output_type": "execute_result"
    }
   ],
   "source": [
    "products.product_category_name.nunique()"
   ]
  },
  {
   "cell_type": "markdown",
   "metadata": {},
   "source": [
    "### Notes\n",
    "* missing values (product_category_name ,product_name_lenght , product_description_lenght,product_photos_qty ,product_weight_g              \n",
    ",product_length_cm ,product_height_cm , product_width_cm)  \n",
    "\n",
    "* unuseful columns(product_description_lenght, product_name_lenght )\n"
   ]
  },
  {
   "cell_type": "markdown",
   "metadata": {},
   "source": [
    "### 7- sellers table"
   ]
  },
  {
   "cell_type": "code",
   "execution_count": 25,
   "metadata": {},
   "outputs": [],
   "source": [
    "sellers=pd.read_csv(\"olist_sellers_dataset.csv\")"
   ]
  },
  {
   "cell_type": "code",
   "execution_count": 26,
   "metadata": {},
   "outputs": [
    {
     "data": {
      "text/html": [
       "<div>\n",
       "<style scoped>\n",
       "    .dataframe tbody tr th:only-of-type {\n",
       "        vertical-align: middle;\n",
       "    }\n",
       "\n",
       "    .dataframe tbody tr th {\n",
       "        vertical-align: top;\n",
       "    }\n",
       "\n",
       "    .dataframe thead th {\n",
       "        text-align: right;\n",
       "    }\n",
       "</style>\n",
       "<table border=\"1\" class=\"dataframe\">\n",
       "  <thead>\n",
       "    <tr style=\"text-align: right;\">\n",
       "      <th></th>\n",
       "      <th>seller_id</th>\n",
       "      <th>seller_zip_code_prefix</th>\n",
       "      <th>seller_city</th>\n",
       "      <th>seller_state</th>\n",
       "    </tr>\n",
       "  </thead>\n",
       "  <tbody>\n",
       "    <tr>\n",
       "      <th>0</th>\n",
       "      <td>3442f8959a84dea7ee197c632cb2df15</td>\n",
       "      <td>13023</td>\n",
       "      <td>campinas</td>\n",
       "      <td>SP</td>\n",
       "    </tr>\n",
       "    <tr>\n",
       "      <th>1</th>\n",
       "      <td>d1b65fc7debc3361ea86b5f14c68d2e2</td>\n",
       "      <td>13844</td>\n",
       "      <td>mogi guacu</td>\n",
       "      <td>SP</td>\n",
       "    </tr>\n",
       "    <tr>\n",
       "      <th>2</th>\n",
       "      <td>ce3ad9de960102d0677a81f5d0bb7b2d</td>\n",
       "      <td>20031</td>\n",
       "      <td>rio de janeiro</td>\n",
       "      <td>RJ</td>\n",
       "    </tr>\n",
       "    <tr>\n",
       "      <th>3</th>\n",
       "      <td>c0f3eea2e14555b6faeea3dd58c1b1c3</td>\n",
       "      <td>4195</td>\n",
       "      <td>sao paulo</td>\n",
       "      <td>SP</td>\n",
       "    </tr>\n",
       "    <tr>\n",
       "      <th>4</th>\n",
       "      <td>51a04a8a6bdcb23deccc82b0b80742cf</td>\n",
       "      <td>12914</td>\n",
       "      <td>braganca paulista</td>\n",
       "      <td>SP</td>\n",
       "    </tr>\n",
       "  </tbody>\n",
       "</table>\n",
       "</div>"
      ],
      "text/plain": [
       "                          seller_id  seller_zip_code_prefix  \\\n",
       "0  3442f8959a84dea7ee197c632cb2df15                   13023   \n",
       "1  d1b65fc7debc3361ea86b5f14c68d2e2                   13844   \n",
       "2  ce3ad9de960102d0677a81f5d0bb7b2d                   20031   \n",
       "3  c0f3eea2e14555b6faeea3dd58c1b1c3                    4195   \n",
       "4  51a04a8a6bdcb23deccc82b0b80742cf                   12914   \n",
       "\n",
       "         seller_city seller_state  \n",
       "0           campinas           SP  \n",
       "1         mogi guacu           SP  \n",
       "2     rio de janeiro           RJ  \n",
       "3          sao paulo           SP  \n",
       "4  braganca paulista           SP  "
      ]
     },
     "execution_count": 26,
     "metadata": {},
     "output_type": "execute_result"
    }
   ],
   "source": [
    "sellers.head()"
   ]
  },
  {
   "cell_type": "code",
   "execution_count": 27,
   "metadata": {},
   "outputs": [
    {
     "name": "stdout",
     "output_type": "stream",
     "text": [
      "<class 'pandas.core.frame.DataFrame'>\n",
      "RangeIndex: 3095 entries, 0 to 3094\n",
      "Data columns (total 4 columns):\n",
      "seller_id                 3095 non-null object\n",
      "seller_zip_code_prefix    3095 non-null int64\n",
      "seller_city               3095 non-null object\n",
      "seller_state              3095 non-null object\n",
      "dtypes: int64(1), object(3)\n",
      "memory usage: 96.8+ KB\n"
     ]
    }
   ],
   "source": [
    "sellers.info()"
   ]
  },
  {
   "cell_type": "markdown",
   "metadata": {},
   "source": [
    "### Note\n",
    "* no missing data\n",
    "* unuseful column (seller_zip_code_prefix)"
   ]
  },
  {
   "cell_type": "markdown",
   "metadata": {},
   "source": [
    "### 8- translation table"
   ]
  },
  {
   "cell_type": "code",
   "execution_count": 28,
   "metadata": {},
   "outputs": [
    {
     "data": {
      "text/html": [
       "<div>\n",
       "<style scoped>\n",
       "    .dataframe tbody tr th:only-of-type {\n",
       "        vertical-align: middle;\n",
       "    }\n",
       "\n",
       "    .dataframe tbody tr th {\n",
       "        vertical-align: top;\n",
       "    }\n",
       "\n",
       "    .dataframe thead th {\n",
       "        text-align: right;\n",
       "    }\n",
       "</style>\n",
       "<table border=\"1\" class=\"dataframe\">\n",
       "  <thead>\n",
       "    <tr style=\"text-align: right;\">\n",
       "      <th></th>\n",
       "      <th>product_category_name</th>\n",
       "      <th>product_category_name_english</th>\n",
       "    </tr>\n",
       "  </thead>\n",
       "  <tbody>\n",
       "    <tr>\n",
       "      <th>0</th>\n",
       "      <td>beleza_saude</td>\n",
       "      <td>health_beauty</td>\n",
       "    </tr>\n",
       "    <tr>\n",
       "      <th>1</th>\n",
       "      <td>informatica_acessorios</td>\n",
       "      <td>computers_accessories</td>\n",
       "    </tr>\n",
       "    <tr>\n",
       "      <th>2</th>\n",
       "      <td>automotivo</td>\n",
       "      <td>auto</td>\n",
       "    </tr>\n",
       "    <tr>\n",
       "      <th>3</th>\n",
       "      <td>cama_mesa_banho</td>\n",
       "      <td>bed_bath_table</td>\n",
       "    </tr>\n",
       "    <tr>\n",
       "      <th>4</th>\n",
       "      <td>moveis_decoracao</td>\n",
       "      <td>furniture_decor</td>\n",
       "    </tr>\n",
       "  </tbody>\n",
       "</table>\n",
       "</div>"
      ],
      "text/plain": [
       "    product_category_name product_category_name_english\n",
       "0            beleza_saude                 health_beauty\n",
       "1  informatica_acessorios         computers_accessories\n",
       "2              automotivo                          auto\n",
       "3         cama_mesa_banho                bed_bath_table\n",
       "4        moveis_decoracao               furniture_decor"
      ]
     },
     "execution_count": 28,
     "metadata": {},
     "output_type": "execute_result"
    }
   ],
   "source": [
    "translation=pd.read_csv(\"product_category_name_translation.csv\")\n",
    "translation.head()"
   ]
  },
  {
   "cell_type": "code",
   "execution_count": 29,
   "metadata": {},
   "outputs": [
    {
     "data": {
      "text/plain": [
       "71"
      ]
     },
     "execution_count": 29,
     "metadata": {},
     "output_type": "execute_result"
    }
   ],
   "source": [
    "translation.product_category_name.nunique()"
   ]
  },
  {
   "cell_type": "code",
   "execution_count": 30,
   "metadata": {},
   "outputs": [
    {
     "data": {
      "text/plain": [
       "array(['nan', 'pc_gamer', 'portateis_cozinha_e_preparadores_de_alimentos'],\n",
       "      dtype='<U46')"
      ]
     },
     "execution_count": 30,
     "metadata": {},
     "output_type": "execute_result"
    }
   ],
   "source": [
    "list1 = translation['product_category_name'].unique().tolist()\n",
    "list2 = products['product_category_name'].unique().tolist()\n",
    "\n",
    "diff = np.setdiff1d(list2,list1)\n",
    "diff"
   ]
  },
  {
   "cell_type": "markdown",
   "metadata": {},
   "source": [
    "#### Note\n",
    "there are 2 products (pc_gamer , portateis_cozinha_e_preparadores_de_alimentos) not included in translation table ."
   ]
  },
  {
   "cell_type": "markdown",
   "metadata": {},
   "source": [
    "### assessing summary\n",
    "> columns will be deleted :\n",
    "* customer_zip_code_prefix \n",
    "* review_comment_title   \n",
    "* review_comment_message\n",
    "* review_creation_date\n",
    "* review_answer_timestamp\n",
    "* order_delivered_carrier_date\n",
    "* product_description_lenght \n",
    "* product_name_lenght \n",
    "* seller_zip_code_prefix\n",
    "\n",
    "> Drop missing values in all data\n",
    "\n",
    "\n",
    "> There are two values in products not translated\n",
    "\n",
    "> wrong data types  :\n",
    "* order_purchase_timestamp ,order_approved_at , order_delivered_customer_date , order_estimated_delivery_date , shipping_limit_date  from object to datetime \n",
    "* order_item_id , product_photos_qty , payment_sequential , payment_installments from object to int\n",
    "                 "
   ]
  },
  {
   "cell_type": "markdown",
   "metadata": {},
   "source": [
    "## 2- Cleaning Data"
   ]
  },
  {
   "cell_type": "markdown",
   "metadata": {},
   "source": [
    "#### 2.1  Drop unuseful columns"
   ]
  },
  {
   "cell_type": "code",
   "execution_count": 31,
   "metadata": {},
   "outputs": [],
   "source": [
    "customers.drop('customer_zip_code_prefix' , axis = 1,inplace = True)"
   ]
  },
  {
   "cell_type": "code",
   "execution_count": 32,
   "metadata": {},
   "outputs": [],
   "source": [
    "reviews.drop(['review_comment_title','review_comment_message','review_creation_date','review_answer_timestamp'] , \n",
    "               axis = 1,inplace = True)"
   ]
  },
  {
   "cell_type": "code",
   "execution_count": 33,
   "metadata": {},
   "outputs": [],
   "source": [
    "products.drop(['product_description_lenght','product_name_lenght'] , axis = 1,inplace = True)"
   ]
  },
  {
   "cell_type": "code",
   "execution_count": 34,
   "metadata": {},
   "outputs": [],
   "source": [
    "sellers.drop('seller_zip_code_prefix' , axis = 1 ,inplace = True)"
   ]
  },
  {
   "cell_type": "code",
   "execution_count": 35,
   "metadata": {},
   "outputs": [],
   "source": [
    "orders.drop('order_delivered_carrier_date' , axis = 1 ,inplace = True)"
   ]
  },
  {
   "cell_type": "markdown",
   "metadata": {},
   "source": [
    "#### 2.2  Joining tables"
   ]
  },
  {
   "cell_type": "code",
   "execution_count": 36,
   "metadata": {},
   "outputs": [],
   "source": [
    "#joining customers and orders\n",
    "customers_orders = pd.merge(customers, orders , on = 'customer_id', how = 'outer')"
   ]
  },
  {
   "cell_type": "code",
   "execution_count": 37,
   "metadata": {},
   "outputs": [],
   "source": [
    "#joining  customers_orders and reviews\n",
    "customers_orders_reviews = pd.merge(customers_orders, reviews , on = 'order_id', how = 'outer')"
   ]
  },
  {
   "cell_type": "code",
   "execution_count": 38,
   "metadata": {},
   "outputs": [],
   "source": [
    "# joining customers_orders_reviews  and items\n",
    "customers_orders_reviews_items = pd.merge(customers_orders_reviews, items , on = 'order_id', how = 'outer')"
   ]
  },
  {
   "cell_type": "code",
   "execution_count": 39,
   "metadata": {},
   "outputs": [],
   "source": [
    "# joining customers_orders_reviews_items and sellers\n",
    "customers_orders_reviews_items_sellers = pd.merge(customers_orders_reviews_items, sellers , on = 'seller_id', how = 'outer')"
   ]
  },
  {
   "cell_type": "code",
   "execution_count": 40,
   "metadata": {},
   "outputs": [],
   "source": [
    "# joining customers_orders_reviews_items_sellers and products\n",
    "customers_orders_reviews_items_sellers_products = pd.merge(customers_orders_reviews_items_sellers, products ,\n",
    "                                                  on = 'product_id', how = 'outer')"
   ]
  },
  {
   "cell_type": "code",
   "execution_count": 41,
   "metadata": {},
   "outputs": [],
   "source": [
    "# joining customers_orders_reviews_items_sellers_products and payment\n",
    "olist_data = pd.merge(customers_orders_reviews_items_sellers_products, payment ,\n",
    "                                                  on = 'order_id', how = 'outer')"
   ]
  },
  {
   "cell_type": "markdown",
   "metadata": {},
   "source": [
    "##### test"
   ]
  },
  {
   "cell_type": "code",
   "execution_count": 42,
   "metadata": {
    "scrolled": true
   },
   "outputs": [
    {
     "name": "stdout",
     "output_type": "stream",
     "text": [
      "<class 'pandas.core.frame.DataFrame'>\n",
      "Int64Index: 119151 entries, 0 to 119150\n",
      "Data columns (total 30 columns):\n",
      "customer_id                      119151 non-null object\n",
      "customer_unique_id               119151 non-null object\n",
      "customer_city                    119151 non-null object\n",
      "customer_state                   119151 non-null object\n",
      "order_id                         119151 non-null object\n",
      "order_status                     119151 non-null object\n",
      "order_purchase_timestamp         119151 non-null object\n",
      "order_approved_at                118974 non-null object\n",
      "order_delivered_customer_date    115730 non-null object\n",
      "order_estimated_delivery_date    119151 non-null object\n",
      "review_id                        119151 non-null object\n",
      "review_score                     119151 non-null int64\n",
      "order_item_id                    118318 non-null float64\n",
      "product_id                       118318 non-null object\n",
      "seller_id                        118318 non-null object\n",
      "shipping_limit_date              118318 non-null object\n",
      "price                            118318 non-null float64\n",
      "freight_value                    118318 non-null float64\n",
      "seller_city                      118318 non-null object\n",
      "seller_state                     118318 non-null object\n",
      "product_category_name            116609 non-null object\n",
      "product_photos_qty               116609 non-null float64\n",
      "product_weight_g                 118298 non-null float64\n",
      "product_length_cm                118298 non-null float64\n",
      "product_height_cm                118298 non-null float64\n",
      "product_width_cm                 118298 non-null float64\n",
      "payment_sequential               119148 non-null float64\n",
      "payment_type                     119148 non-null object\n",
      "payment_installments             119148 non-null float64\n",
      "payment_value                    119148 non-null float64\n",
      "dtypes: float64(11), int64(1), object(18)\n",
      "memory usage: 28.2+ MB\n"
     ]
    }
   ],
   "source": [
    "olist_data.info()"
   ]
  },
  {
   "cell_type": "markdown",
   "metadata": {},
   "source": [
    "##### 2.3  drop nulls"
   ]
  },
  {
   "cell_type": "code",
   "execution_count": 43,
   "metadata": {},
   "outputs": [],
   "source": [
    "olist_data.dropna(inplace =True)"
   ]
  },
  {
   "cell_type": "markdown",
   "metadata": {},
   "source": [
    "###### Test"
   ]
  },
  {
   "cell_type": "code",
   "execution_count": 44,
   "metadata": {
    "scrolled": true
   },
   "outputs": [
    {
     "data": {
      "text/plain": [
       "customer_id                      0\n",
       "customer_unique_id               0\n",
       "customer_city                    0\n",
       "customer_state                   0\n",
       "order_id                         0\n",
       "order_status                     0\n",
       "order_purchase_timestamp         0\n",
       "order_approved_at                0\n",
       "order_delivered_customer_date    0\n",
       "order_estimated_delivery_date    0\n",
       "review_id                        0\n",
       "review_score                     0\n",
       "order_item_id                    0\n",
       "product_id                       0\n",
       "seller_id                        0\n",
       "shipping_limit_date              0\n",
       "price                            0\n",
       "freight_value                    0\n",
       "seller_city                      0\n",
       "seller_state                     0\n",
       "product_category_name            0\n",
       "product_photos_qty               0\n",
       "product_weight_g                 0\n",
       "product_length_cm                0\n",
       "product_height_cm                0\n",
       "product_width_cm                 0\n",
       "payment_sequential               0\n",
       "payment_type                     0\n",
       "payment_installments             0\n",
       "payment_value                    0\n",
       "dtype: int64"
      ]
     },
     "execution_count": 44,
     "metadata": {},
     "output_type": "execute_result"
    }
   ],
   "source": [
    "olist_data.isnull().sum()"
   ]
  },
  {
   "cell_type": "markdown",
   "metadata": {},
   "source": [
    "#### 2.4 adding 2 missed products to translation table"
   ]
  },
  {
   "cell_type": "code",
   "execution_count": 45,
   "metadata": {},
   "outputs": [],
   "source": [
    "df = pd.DataFrame({\"product_category_name\":['pc_gamer','portateis_cozinha_e_preparadores_de_alimentos'],\n",
    "                    \"product_category_name_english\":['pc_gamer','kitchen_laptops and_food_preparators']})\n",
    "  \n",
    "# for appending df at the end of translation table\n",
    "translation =translation.append(df, ignore_index = True)"
   ]
  },
  {
   "cell_type": "code",
   "execution_count": 46,
   "metadata": {},
   "outputs": [],
   "source": [
    "olist_data = pd.merge(olist_data, translation , on = 'product_category_name', how = 'outer')"
   ]
  },
  {
   "cell_type": "markdown",
   "metadata": {},
   "source": [
    "##### Test"
   ]
  },
  {
   "cell_type": "code",
   "execution_count": 47,
   "metadata": {
    "scrolled": true
   },
   "outputs": [
    {
     "name": "stdout",
     "output_type": "stream",
     "text": [
      "<class 'pandas.core.frame.DataFrame'>\n",
      "Int64Index: 114074 entries, 0 to 114073\n",
      "Data columns (total 31 columns):\n",
      "customer_id                      114074 non-null object\n",
      "customer_unique_id               114074 non-null object\n",
      "customer_city                    114074 non-null object\n",
      "customer_state                   114074 non-null object\n",
      "order_id                         114074 non-null object\n",
      "order_status                     114074 non-null object\n",
      "order_purchase_timestamp         114074 non-null object\n",
      "order_approved_at                114074 non-null object\n",
      "order_delivered_customer_date    114074 non-null object\n",
      "order_estimated_delivery_date    114074 non-null object\n",
      "review_id                        114074 non-null object\n",
      "review_score                     114074 non-null int64\n",
      "order_item_id                    114074 non-null float64\n",
      "product_id                       114074 non-null object\n",
      "seller_id                        114074 non-null object\n",
      "shipping_limit_date              114074 non-null object\n",
      "price                            114074 non-null float64\n",
      "freight_value                    114074 non-null float64\n",
      "seller_city                      114074 non-null object\n",
      "seller_state                     114074 non-null object\n",
      "product_category_name            114074 non-null object\n",
      "product_photos_qty               114074 non-null float64\n",
      "product_weight_g                 114074 non-null float64\n",
      "product_length_cm                114074 non-null float64\n",
      "product_height_cm                114074 non-null float64\n",
      "product_width_cm                 114074 non-null float64\n",
      "payment_sequential               114074 non-null float64\n",
      "payment_type                     114074 non-null object\n",
      "payment_installments             114074 non-null float64\n",
      "payment_value                    114074 non-null float64\n",
      "product_category_name_english    114074 non-null object\n",
      "dtypes: float64(11), int64(1), object(19)\n",
      "memory usage: 27.9+ MB\n"
     ]
    }
   ],
   "source": [
    "olist_data.info()"
   ]
  },
  {
   "cell_type": "code",
   "execution_count": 48,
   "metadata": {},
   "outputs": [],
   "source": [
    "olist_data.drop('product_category_name', axis=1,inplace=True)"
   ]
  },
  {
   "cell_type": "markdown",
   "metadata": {},
   "source": [
    "#### 2.5 fixing wrong datatypes"
   ]
  },
  {
   "cell_type": "code",
   "execution_count": 49,
   "metadata": {},
   "outputs": [],
   "source": [
    "olist_data[['order_purchase_timestamp','order_approved_at' , 'order_delivered_customer_date' , 'order_estimated_delivery_date' ,\n",
    "       'shipping_limit_date']] = olist_data [['order_purchase_timestamp','order_approved_at' , \n",
    "                                              'order_delivered_customer_date' , 'order_estimated_delivery_date',\n",
    "                                              'shipping_limit_date']].apply(pd.to_datetime, format='%Y-%m-%d %H:%M:%S.%f')"
   ]
  },
  {
   "cell_type": "code",
   "execution_count": 50,
   "metadata": {},
   "outputs": [],
   "source": [
    "olist_data[['order_item_id' , 'product_photos_qty' , 'payment_sequential' ,\n",
    "            'payment_installments']] = olist_data[['order_item_id' , 'product_photos_qty' , 'payment_sequential' ,\n",
    "            'payment_installments']] .astype(int)"
   ]
  },
  {
   "cell_type": "markdown",
   "metadata": {},
   "source": [
    "##### Test"
   ]
  },
  {
   "cell_type": "code",
   "execution_count": 51,
   "metadata": {},
   "outputs": [
    {
     "data": {
      "text/plain": [
       "customer_id                              object\n",
       "customer_unique_id                       object\n",
       "customer_city                            object\n",
       "customer_state                           object\n",
       "order_id                                 object\n",
       "order_status                             object\n",
       "order_purchase_timestamp         datetime64[ns]\n",
       "order_approved_at                datetime64[ns]\n",
       "order_delivered_customer_date    datetime64[ns]\n",
       "order_estimated_delivery_date    datetime64[ns]\n",
       "review_id                                object\n",
       "review_score                              int64\n",
       "order_item_id                             int32\n",
       "product_id                               object\n",
       "seller_id                                object\n",
       "shipping_limit_date              datetime64[ns]\n",
       "price                                   float64\n",
       "freight_value                           float64\n",
       "seller_city                              object\n",
       "seller_state                             object\n",
       "product_photos_qty                        int32\n",
       "product_weight_g                        float64\n",
       "product_length_cm                       float64\n",
       "product_height_cm                       float64\n",
       "product_width_cm                        float64\n",
       "payment_sequential                        int32\n",
       "payment_type                             object\n",
       "payment_installments                      int32\n",
       "payment_value                           float64\n",
       "product_category_name_english            object\n",
       "dtype: object"
      ]
     },
     "execution_count": 51,
     "metadata": {},
     "output_type": "execute_result"
    }
   ],
   "source": [
    "olist_data.dtypes"
   ]
  },
  {
   "cell_type": "markdown",
   "metadata": {},
   "source": [
    "## 3- Data analysis & Visualisation"
   ]
  },
  {
   "cell_type": "markdown",
   "metadata": {},
   "source": [
    "### Customers information in the dataset"
   ]
  },
  {
   "cell_type": "code",
   "execution_count": 52,
   "metadata": {},
   "outputs": [
    {
     "data": {
      "image/png": "[encoded data removed]",
      "text/plain": [
       "<Figure size 1080x720 with 4 Axes>"
      ]
     },
     "metadata": {
      "needs_background": "light"
     },
     "output_type": "display_data"
    }
   ],
   "source": [
    "#plotting subplots and figure size\n",
    "figure, tile = plt.subplots(2, 2,figsize =(15, 10));\n",
    "\n",
    "\n",
    "#first chart \n",
    "\n",
    "total_cus = olist_data['customer_unique_id'].nunique()\n",
    "tile[0,0].text(0.5, 0.6, total_cus, fontsize = 70 ,ha=\"center\", va=\"center\", color = '#22afa7');\n",
    "tile[0,0].text(0.6, 0.3, 'customers', fontsize = 40 , ha=\"center\", va=\"center\");\n",
    "\n",
    "\n",
    "#second chart\n",
    "\n",
    "df =  olist_data[['order_purchase_timestamp', 'customer_unique_id']].copy()\n",
    "# extract years from timestamp\n",
    "df['year'] = df['order_purchase_timestamp'].dt.year\n",
    "# group counts of customers by year\n",
    "df = df.groupby('year',as_index = False)['customer_unique_id'].count()\n",
    "#plotting line chart\n",
    "sns.lineplot(ax= tile[0,1] , data= df, x = \"year\" , y= 'customer_unique_id');\n",
    "# x ticks\n",
    "ticks = df['year'].unique()\n",
    "tile[0,1].set_xticks(ticks)\n",
    "tile[0,1].set_ylabel('customer_count');\n",
    "\n",
    "\n",
    "#third chart\n",
    "freq = olist_data.customer_city.value_counts()[0:10]\n",
    "# Get the indexes of the Series\n",
    "city_order = freq.index\n",
    "#plot a count plot using seaborn\n",
    "sns.countplot(ax= tile[1,0],data = olist_data , y= 'customer_city' ,  order = city_order , palette= 'mako');\n",
    "#plot title \n",
    "tile[1,0].set_title(\"top 10 customers cities\");\n",
    "tile[1,0].set_xlabel('customer_count');\n",
    "\n",
    "\n",
    "#fourth chart\n",
    "freq = olist_data.customer_state.value_counts()[0:10]\n",
    "# Get the indexes of the Series\n",
    "state_order = freq.index\n",
    "#plot a count plot using seaborn\n",
    "sns.countplot(ax= tile[1,1],data = olist_data , y= 'customer_state' ,  order = state_order , palette='mako');\n",
    "#plot title \n",
    "tile[1,1].set_title(\"top 10 customers states\");\n",
    "tile[1,1].set_xlabel('customer_count');\n"
   ]
  },
  {
   "cell_type": "code",
   "execution_count": 53,
   "metadata": {},
   "outputs": [
    {
     "data": {
      "text/plain": [
       "4073"
      ]
     },
     "execution_count": 53,
     "metadata": {},
     "output_type": "execute_result"
    }
   ],
   "source": [
    "olist_data.customer_city.nunique()"
   ]
  },
  {
   "cell_type": "code",
   "execution_count": 54,
   "metadata": {},
   "outputs": [
    {
     "data": {
      "text/plain": [
       "27"
      ]
     },
     "execution_count": 54,
     "metadata": {},
     "output_type": "execute_result"
    }
   ],
   "source": [
    "olist_data.customer_state.nunique()"
   ]
  },
  {
   "cell_type": "markdown",
   "metadata": {},
   "source": [
    "We have 114074 customer they are from 4073 city and 27 state.\n",
    "\n",
    "Number of customers increased over the years from 2016 to 2018 and it reached it's maximum at 2018.\n",
    "\n",
    "most popular city in our data is sao paulo. \n",
    "\n",
    "most popular state in our data is SP.\n"
   ]
  },
  {
   "cell_type": "markdown",
   "metadata": {},
   "source": [
    "### Reviews"
   ]
  },
  {
   "cell_type": "code",
   "execution_count": 55,
   "metadata": {},
   "outputs": [
    {
     "data": {
      "image/png": "[encoded data removed]",
      "text/plain": [
       "<Figure size 1080x288 with 2 Axes>"
      ]
     },
     "metadata": {
      "needs_background": "light"
     },
     "output_type": "display_data"
    }
   ],
   "source": [
    "#plotting subplots and figure size\n",
    "figure, tile = plt.subplots(1, 2,figsize =(15, 4));\n",
    "\n",
    "\n",
    "#first chart \n",
    "\n",
    "total_reviews = olist_data['order_id'].nunique()\n",
    "tile[0].text(0.5, 0.6, total_reviews, fontsize = 70 ,ha=\"center\", va=\"center\", color = '#3B1849');\n",
    "tile[0].text(0.6, 0.3, 'Review', fontsize = 40 , ha=\"center\", va=\"center\",color ='#C24762');\n",
    "\n",
    "\n",
    "#second chart\n",
    "\n",
    "# Count the frequency of each unique value \n",
    "freq = olist_data.review_score.value_counts()\n",
    "# Get the indexes of the Series\n",
    "reviews_order = freq.index\n",
    "#plot a count plot using seaborn\n",
    "sns.countplot(data= olist_data , x = \"review_score\", order=reviews_order,  palette = \"ch:s=-.2,r=.6\");\n",
    "#plot title \n",
    "plt.title(\"reviews score\");"
   ]
  },
  {
   "cell_type": "markdown",
   "metadata": {},
   "source": [
    "* We have 95129 reviews have score from 1 to 5 \n",
    "* It seems that olist products have good quality because of its high reviews\n"
   ]
  },
  {
   "cell_type": "markdown",
   "metadata": {},
   "source": [
    "### Orders"
   ]
  },
  {
   "cell_type": "code",
   "execution_count": 56,
   "metadata": {},
   "outputs": [
    {
     "name": "stderr",
     "output_type": "stream",
     "text": [
      "C:\\ProgramData\\Anaconda3\\lib\\site-packages\\scipy\\stats\\stats.py:1713: FutureWarning: Using a non-tuple sequence for multidimensional indexing is deprecated; use `arr[tuple(seq)]` instead of `arr[seq]`. In the future this will be interpreted as an array index, `arr[np.array(seq)]`, which will result either in an error or a different result.\n",
      "  return np.add.reduce(sorted[indexer] * weights, axis=axis) / sumval\n"
     ]
    },
    {
     "data": {
      "image/png": "[encoded data removed]",
      "text/plain": [
       "<Figure size 936x360 with 2 Axes>"
      ]
     },
     "metadata": {
      "needs_background": "light"
     },
     "output_type": "display_data"
    }
   ],
   "source": [
    "#plotting subplots and figure size\n",
    "figure, tile = plt.subplots(1, 2,figsize =(13, 5));\n",
    "\n",
    "\n",
    "#first chart \n",
    "\n",
    "total_orders = olist_data['order_id'].nunique()\n",
    "tile[0].text(0.5, 0.6, total_orders, fontsize = 70 ,ha=\"center\", va=\"center\", color = '#DB1F48');\n",
    "tile[0].text(0.6, 0.3, 'Orders', fontsize = 40 , ha=\"center\", va=\"center\", color = '#004369');\n",
    "\n",
    "#second chart\n",
    "\n",
    "#set bin edges start and end\n",
    "bin_edges = np.arange(1, olist_data['order_item_id'].max()+1, 1)\n",
    "#plot histogram \n",
    "sns.distplot(olist_data['order_item_id'], bins = bin_edges, color = 'red');\n",
    "plt.title(\"distribution of items ordered per one order\");\n",
    "plt.xlabel(\"no.of orders\");\n"
   ]
  },
  {
   "cell_type": "code",
   "execution_count": 57,
   "metadata": {},
   "outputs": [
    {
     "data": {
      "text/plain": [
       "21"
      ]
     },
     "execution_count": 57,
     "metadata": {},
     "output_type": "execute_result"
    }
   ],
   "source": [
    "olist_data.order_item_id.max()"
   ]
  },
  {
   "cell_type": "code",
   "execution_count": 58,
   "metadata": {},
   "outputs": [
    {
     "data": {
      "text/plain": [
       "delivered    114067\n",
       "canceled          7\n",
       "Name: order_status, dtype: int64"
      ]
     },
     "execution_count": 58,
     "metadata": {},
     "output_type": "execute_result"
    }
   ],
   "source": [
    "olist_data.order_status.value_counts()"
   ]
  },
  {
   "cell_type": "markdown",
   "metadata": {},
   "source": [
    "* we have 95129 order in our data.\n",
    "* Most of customers order just one item per order.\n",
    "* Max number of items in the same order was 21.\n",
    "* only 7 orders canceled and others delivered."
   ]
  },
  {
   "cell_type": "markdown",
   "metadata": {},
   "source": [
    "### sellers"
   ]
  },
  {
   "cell_type": "code",
   "execution_count": 59,
   "metadata": {},
   "outputs": [
    {
     "data": {
      "text/plain": [
       "22"
      ]
     },
     "execution_count": 59,
     "metadata": {},
     "output_type": "execute_result"
    }
   ],
   "source": [
    "olist_data.seller_state.nunique()"
   ]
  },
  {
   "cell_type": "code",
   "execution_count": 60,
   "metadata": {},
   "outputs": [
    {
     "data": {
      "text/plain": [
       "588"
      ]
     },
     "execution_count": 60,
     "metadata": {},
     "output_type": "execute_result"
    }
   ],
   "source": [
    "olist_data.seller_city.nunique()"
   ]
  },
  {
   "cell_type": "code",
   "execution_count": 61,
   "metadata": {},
   "outputs": [
    {
     "data": {
      "image/png": "[encoded data removed]",
      "text/plain": [
       "<Figure size 1440x432 with 3 Axes>"
      ]
     },
     "metadata": {
      "needs_background": "light"
     },
     "output_type": "display_data"
    }
   ],
   "source": [
    "#plotting subplots and figure size\n",
    "figure, tile = plt.subplots(1, 3,figsize =(20, 6));\n",
    "\n",
    "# first chart\n",
    "count_seller = olist_data['seller_id'].nunique()\n",
    "tile[0].text(0.5, 0.6, count_seller, fontsize = 70 ,ha=\"center\", va=\"center\", color = '#E17A82');\n",
    "tile[0].text(0.6, 0.3, 'Sellers', fontsize = 40 , ha=\"center\", va=\"center\", color='#165C40');\n",
    "\n",
    "\n",
    "#second chart\n",
    "freq = olist_data.seller_city.value_counts()[0:5]\n",
    "# Get the indexes of the Series\n",
    "city_order = freq.index\n",
    "#plot a count plot using seaborn\n",
    "sns.countplot(ax= tile[1],data = olist_data , x= 'seller_city' ,  order = city_order , color= '#165C40');\n",
    "#plot title \n",
    "tile[1].set_title(\"top 5 sellers cities\");\n",
    "tile[1].set_ylabel('seller_count');\n",
    "tile[1].set_xticklabels(labels= freq.index,rotation=10);\n",
    "\n",
    "\n",
    "\n",
    "#third chart\n",
    "freq = olist_data.seller_state.value_counts()[0:5]\n",
    "# Get the indexes of the Series\n",
    "state_order = freq.index\n",
    "#plot a count plot using seaborn\n",
    "sns.countplot(ax= tile[2],data = olist_data , x= 'seller_state' ,  order = state_order , color= '#165C40');\n",
    "#plot title \n",
    "tile[2].set_title(\"top 5 sellers states\");\n",
    "tile[2].set_ylabel('seller_count');"
   ]
  },
  {
   "cell_type": "markdown",
   "metadata": {},
   "source": [
    "* we have 2914 sellers located in 22 state and 588 city \n",
    "* top city is sao paulo and top state is SP"
   ]
  },
  {
   "cell_type": "code",
   "execution_count": 62,
   "metadata": {},
   "outputs": [
    {
     "data": {
      "image/png": "[encoded data removed]",
      "text/plain": [
       "<Figure size 1800x1440 with 9 Axes>"
      ]
     },
     "metadata": {
      "needs_background": "light"
     },
     "output_type": "display_data"
    }
   ],
   "source": [
    "\n",
    "#plotting subplots and figure size\n",
    "figure, tile = plt.subplots(3, 3,figsize =(25, 20));\n",
    "\n",
    "# first chart\n",
    "tile[0,0].set_facecolor('#EBEBE8')\n",
    "count_products = olist_data['product_id'].nunique()\n",
    "tile[0,0].text(0.5, 0.6, count_products, fontsize = 70 ,ha=\"center\", va=\"center\", color = '#8C5249');\n",
    "tile[0,0].text(0.6, 0.3, 'Products', fontsize = 45 , ha=\"center\", va=\"center\", color='#21B6A8');\n",
    "\n",
    "# second chart\n",
    "tile[1,0].set_facecolor('#EBEBE8')\n",
    "count_categories = olist_data['product_category_name_english'].nunique()\n",
    "tile[1,0].text(0.5, 0.6, count_categories, fontsize = 70 ,ha=\"center\", va=\"center\", color = '#8C5249');\n",
    "tile[1,0].text(0.6, 0.3, 'Categories', fontsize = 45 , ha=\"center\", va=\"center\", color='#21B6A8');\n",
    "\n",
    "# third chart\n",
    "tile[2,0].set_facecolor('#EBEBE8')\n",
    "count_sales = round(olist_data['payment_value'].sum()/1000000,2)\n",
    "tile[2,0].text(0.5, 0.6, count_sales, fontsize = 70 ,ha=\"center\", va=\"center\", color = '#8C5249');\n",
    "tile[2,0].text(0.82, 0.6, 'M', fontsize = 70 ,ha=\"center\", va=\"center\", color = '#8C5249');\n",
    "tile[2,0].text(0.2, 0.6, '$', fontsize = 70 ,ha=\"center\", va=\"center\", color = '#8C5249');\n",
    "tile[2,0].text(0.6, 0.3, 'Total Sales', fontsize = 40 , ha=\"center\", va=\"center\", color='#21B6A8');\n",
    "\n",
    "#fourth chart \n",
    "#counting each type\n",
    "payment_type_count = olist_data.payment_type.value_counts()\n",
    "color=['#BF3880','#D68FB0','#F7CAC9','#EAE6F0']\n",
    "explode = (0.1,0,0,0)\n",
    "text_props = {'fontsize': 15}\n",
    "tile[0,1].pie(payment_type_count ,explode=explode, labels = payment_type_count.index, counterclock = False,\n",
    "        autopct='%1.1f%%',shadow = True, labeldistance=1.1,colors=color, textprops = text_props , radius = 1.2);\n",
    " \n",
    "# 5th chart\n",
    "sns.distplot(olist_data['payment_sequential'],  color = 'purple',ax = tile[1,1]);\n",
    "tile[1,1].set_title(\"distribution of payment_sequential\");\n",
    "tile[1,1].set_xlabel(\"payment_sequential\");\n",
    "\n",
    "\n",
    "# 6th chart\n",
    "sns.distplot(olist_data['payment_installments'],  color = 'purple' ,ax = tile[2,1]);\n",
    "tile[2,1].set_title(\"distribution of payment_installments\");\n",
    "tile[2,1].set_xlabel(\"payment_installments\");\n",
    "\n",
    "\n",
    "# 7th chart\n",
    "#plot histogram \n",
    "sns.distplot(olist_data['freight_value'],  color = 'purple',ax = tile[0,2]);\n",
    "tile[0,2].set_title(\"distribution of freight\");\n",
    "tile[0,2].set_xlabel(\"freight\");\n",
    "\n",
    "\n",
    "# 8th chart\n",
    "sns.distplot(olist_data['payment_value'],  color = 'purple',ax = tile[1,2]);\n",
    "tile[1,2].set_title(\"distribution of items ordered per one order\");\n",
    "tile[1,2].set_xlabel(\"payment\");\n",
    "\n",
    "\n",
    "# 9th chart\n",
    "sns.distplot(olist_data['price'],  color = 'purple',ax=tile[2,2]);\n",
    "tile[2,2].set_title(\"distribution of price\");\n",
    "tile[2,2].set_xlabel(\"price\");\n"
   ]
  },
  {
   "cell_type": "code",
   "execution_count": 63,
   "metadata": {},
   "outputs": [
    {
     "data": {
      "text/plain": [
       "1     56811\n",
       "2     13244\n",
       "3     11403\n",
       "4      7756\n",
       "10     6707\n",
       "5      5863\n",
       "8      4914\n",
       "6      4491\n",
       "7      1752\n",
       "9       705\n",
       "12      163\n",
       "15       90\n",
       "18       38\n",
       "24       34\n",
       "11       25\n",
       "20       20\n",
       "13       18\n",
       "14       15\n",
       "16        7\n",
       "17        7\n",
       "21        6\n",
       "0         3\n",
       "23        1\n",
       "22        1\n",
       "Name: payment_installments, dtype: int64"
      ]
     },
     "execution_count": 63,
     "metadata": {},
     "output_type": "execute_result"
    }
   ],
   "source": [
    "olist_data.payment_installments.value_counts()"
   ]
  },
  {
   "cell_type": "markdown",
   "metadata": {},
   "source": [
    "* We have 31626 products divided into 73 categories\n",
    "* There are 4 payment methods about of 73% of people pay using credit card\n",
    "* Totals sales are about 19.6 M \n",
    "* most of customers choose 1 payment sequential \n",
    "* most customers pay freight less than 100 \n",
    "* payment sequential between 1 to 22 "
   ]
  },
  {
   "cell_type": "markdown",
   "metadata": {},
   "source": [
    "### product dimensions "
   ]
  },
  {
   "cell_type": "code",
   "execution_count": 64,
   "metadata": {
    "scrolled": false
   },
   "outputs": [
    {
     "data": {
      "image/png": "[encoded data removed]",
      "text/plain": [
       "<Figure size 1080x720 with 4 Axes>"
      ]
     },
     "metadata": {
      "needs_background": "light"
     },
     "output_type": "display_data"
    }
   ],
   "source": [
    "#plotting subplots and figure size\n",
    "figure, tile = plt.subplots(2, 2,figsize =(15, 10));\n",
    "sns.distplot(olist_data['product_weight_g']/1000,  color = 'purple',ax = tile[0,0]);\n",
    "tile[0,0].set_title(\"distribution of product weigh in kg\");\n",
    "\n",
    "\n",
    "sns.distplot(olist_data['product_length_cm'],  color = 'purple',ax = tile[1,0]);\n",
    "tile[1,0].set_title(\"distribution of product length in cm\");\n",
    "\n",
    "\n",
    "\n",
    "sns.distplot(olist_data['product_height_cm'],  color = 'purple',ax = tile[0,1]);\n",
    "tile[0,1].set_title(\"distribution of product height in cm\");\n",
    "\n",
    "\n",
    "\n",
    "sns.distplot(olist_data['product_width_cm'],  color = 'purple',ax = tile[1,1]);\n",
    "tile[1,1].set_title(\"distribution of product width in cm\");\n",
    "\n"
   ]
  },
  {
   "cell_type": "code",
   "execution_count": 65,
   "metadata": {
    "scrolled": false
   },
   "outputs": [
    {
     "data": {
      "image/png": "[encoded data removed]",
      "text/plain": [
       "<Figure size 864x360 with 4 Axes>"
      ]
     },
     "metadata": {
      "needs_background": "light"
     },
     "output_type": "display_data"
    }
   ],
   "source": [
    "grid=sns.PairGrid(olist_data, y_vars=['freight_value'],x_vars=['product_length_cm', 'product_height_cm','product_weight_g',\n",
    "                                                       'product_width_cm'],height=5,aspect=0.6)\n",
    "\n",
    "grid.map(sns.scatterplot,color=\".3\");\n",
    "plt.yscale(\"log\")\n",
    "plt.xscale(\"log\")\n",
    "\n"
   ]
  },
  {
   "cell_type": "code",
   "execution_count": 66,
   "metadata": {},
   "outputs": [
    {
     "data": {
      "image/png": "[encoded data removed]",
      "text/plain": [
       "<Figure size 576x360 with 1 Axes>"
      ]
     },
     "metadata": {
      "needs_background": "light"
     },
     "output_type": "display_data"
    }
   ],
   "source": [
    "plt.figure(figsize=(8,5))\n",
    "freq = olist_data.product_category_name_english.value_counts()[0:10]\n",
    "# Get the indexes of the Series\n",
    "product_order = freq.index\n",
    "sns.countplot(data = olist_data , y= 'product_category_name_english' ,  order = product_order , palette= 'mako');\n",
    "plt.title(\"Top 10 best sales categories\");\n"
   ]
  },
  {
   "cell_type": "markdown",
   "metadata": {},
   "source": [
    "### Calculate RFM"
   ]
  },
  {
   "cell_type": "code",
   "execution_count": 67,
   "metadata": {},
   "outputs": [],
   "source": [
    "df3= olist_data.copy()"
   ]
  },
  {
   "cell_type": "code",
   "execution_count": 68,
   "metadata": {},
   "outputs": [
    {
     "name": "stdout",
     "output_type": "stream",
     "text": [
      "<class 'pandas.core.frame.DataFrame'>\n",
      "Int64Index: 114074 entries, 0 to 114073\n",
      "Data columns (total 30 columns):\n",
      "customer_id                      114074 non-null object\n",
      "customer_unique_id               114074 non-null object\n",
      "customer_city                    114074 non-null object\n",
      "customer_state                   114074 non-null object\n",
      "order_id                         114074 non-null object\n",
      "order_status                     114074 non-null object\n",
      "order_purchase_timestamp         114074 non-null datetime64[ns]\n",
      "order_approved_at                114074 non-null datetime64[ns]\n",
      "order_delivered_customer_date    114074 non-null datetime64[ns]\n",
      "order_estimated_delivery_date    114074 non-null datetime64[ns]\n",
      "review_id                        114074 non-null object\n",
      "review_score                     114074 non-null int64\n",
      "order_item_id                    114074 non-null int32\n",
      "product_id                       114074 non-null object\n",
      "seller_id                        114074 non-null object\n",
      "shipping_limit_date              114074 non-null datetime64[ns]\n",
      "price                            114074 non-null float64\n",
      "freight_value                    114074 non-null float64\n",
      "seller_city                      114074 non-null object\n",
      "seller_state                     114074 non-null object\n",
      "product_photos_qty               114074 non-null int32\n",
      "product_weight_g                 114074 non-null float64\n",
      "product_length_cm                114074 non-null float64\n",
      "product_height_cm                114074 non-null float64\n",
      "product_width_cm                 114074 non-null float64\n",
      "payment_sequential               114074 non-null int32\n",
      "payment_type                     114074 non-null object\n",
      "payment_installments             114074 non-null int32\n",
      "payment_value                    114074 non-null float64\n",
      "product_category_name_english    114074 non-null object\n",
      "dtypes: datetime64[ns](5), float64(7), int32(4), int64(1), object(13)\n",
      "memory usage: 25.2+ MB\n"
     ]
    }
   ],
   "source": [
    "df3.info()"
   ]
  },
  {
   "cell_type": "code",
   "execution_count": 69,
   "metadata": {},
   "outputs": [],
   "source": [
    "max_date = max(df3['order_purchase_timestamp']) + pd.to_timedelta(1, 'D')\n",
    "\n",
    "\n",
    "# Calculate Recency, Frequency and Monetary value for each customer \n",
    "RFM_data = df3.groupby(['customer_unique_id'],as_index=False).agg({\n",
    "    'order_purchase_timestamp': lambda x: (max_date - x.max()).days,\n",
    "    'order_id': 'count',\n",
    "    'payment_value': 'sum'})\n",
    "\n",
    "\n",
    "# Rename the columns \n",
    "RFM_data.rename(columns={'order_purchase_timestamp': 'Recency',\n",
    "                         'order_id': 'Frequency',\n",
    "                         'payment_value': 'MonetaryValue'}, inplace=True)"
   ]
  },
  {
   "cell_type": "code",
   "execution_count": 70,
   "metadata": {},
   "outputs": [
    {
     "data": {
      "text/html": [
       "<div>\n",
       "<style scoped>\n",
       "    .dataframe tbody tr th:only-of-type {\n",
       "        vertical-align: middle;\n",
       "    }\n",
       "\n",
       "    .dataframe tbody tr th {\n",
       "        vertical-align: top;\n",
       "    }\n",
       "\n",
       "    .dataframe thead th {\n",
       "        text-align: right;\n",
       "    }\n",
       "</style>\n",
       "<table border=\"1\" class=\"dataframe\">\n",
       "  <thead>\n",
       "    <tr style=\"text-align: right;\">\n",
       "      <th></th>\n",
       "      <th>customer_unique_id</th>\n",
       "      <th>Recency</th>\n",
       "      <th>Frequency</th>\n",
       "      <th>MonetaryValue</th>\n",
       "    </tr>\n",
       "  </thead>\n",
       "  <tbody>\n",
       "    <tr>\n",
       "      <th>0</th>\n",
       "      <td>0000366f3b9a7992bf8c76cfdf3221e2</td>\n",
       "      <td>112</td>\n",
       "      <td>1</td>\n",
       "      <td>141.90</td>\n",
       "    </tr>\n",
       "    <tr>\n",
       "      <th>1</th>\n",
       "      <td>0000b849f77a49e4a4ce2b2a4ca5be3f</td>\n",
       "      <td>115</td>\n",
       "      <td>1</td>\n",
       "      <td>27.19</td>\n",
       "    </tr>\n",
       "    <tr>\n",
       "      <th>2</th>\n",
       "      <td>0000f46a3911fa3c0805444483337064</td>\n",
       "      <td>537</td>\n",
       "      <td>1</td>\n",
       "      <td>86.22</td>\n",
       "    </tr>\n",
       "    <tr>\n",
       "      <th>3</th>\n",
       "      <td>0000f6ccb0745a6a4b88665a16c9f078</td>\n",
       "      <td>321</td>\n",
       "      <td>1</td>\n",
       "      <td>43.62</td>\n",
       "    </tr>\n",
       "    <tr>\n",
       "      <th>4</th>\n",
       "      <td>0004aac84e0df4da2b147fca70cf8255</td>\n",
       "      <td>288</td>\n",
       "      <td>1</td>\n",
       "      <td>196.89</td>\n",
       "    </tr>\n",
       "  </tbody>\n",
       "</table>\n",
       "</div>"
      ],
      "text/plain": [
       "                 customer_unique_id  Recency  Frequency  MonetaryValue\n",
       "0  0000366f3b9a7992bf8c76cfdf3221e2      112          1         141.90\n",
       "1  0000b849f77a49e4a4ce2b2a4ca5be3f      115          1          27.19\n",
       "2  0000f46a3911fa3c0805444483337064      537          1          86.22\n",
       "3  0000f6ccb0745a6a4b88665a16c9f078      321          1          43.62\n",
       "4  0004aac84e0df4da2b147fca70cf8255      288          1         196.89"
      ]
     },
     "execution_count": 70,
     "metadata": {},
     "output_type": "execute_result"
    }
   ],
   "source": [
    "RFM_data.head()"
   ]
  },
  {
   "cell_type": "code",
   "execution_count": 71,
   "metadata": {},
   "outputs": [
    {
     "name": "stdout",
     "output_type": "stream",
     "text": [
      "<class 'pandas.core.frame.DataFrame'>\n",
      "Int64Index: 92082 entries, 0 to 92081\n",
      "Data columns (total 4 columns):\n",
      "customer_unique_id    92082 non-null object\n",
      "Recency               92082 non-null int64\n",
      "Frequency             92082 non-null int64\n",
      "MonetaryValue         92082 non-null float64\n",
      "dtypes: float64(1), int64(2), object(1)\n",
      "memory usage: 3.5+ MB\n"
     ]
    }
   ],
   "source": [
    "RFM_data.info()"
   ]
  },
  {
   "cell_type": "code",
   "execution_count": 72,
   "metadata": {},
   "outputs": [
    {
     "data": {
      "text/plain": [
       "75"
      ]
     },
     "execution_count": 72,
     "metadata": {},
     "output_type": "execute_result"
    }
   ],
   "source": [
    "np.max(RFM_data.Frequency)"
   ]
  },
  {
   "cell_type": "code",
   "execution_count": 73,
   "metadata": {},
   "outputs": [
    {
     "data": {
      "text/plain": [
       "237.22018418366238"
      ]
     },
     "execution_count": 73,
     "metadata": {},
     "output_type": "execute_result"
    }
   ],
   "source": [
    "np.mean(RFM_data.Recency)"
   ]
  },
  {
   "cell_type": "code",
   "execution_count": 74,
   "metadata": {},
   "outputs": [
    {
     "data": {
      "text/plain": [
       "1.238830607502009"
      ]
     },
     "execution_count": 74,
     "metadata": {},
     "output_type": "execute_result"
    }
   ],
   "source": [
    "np.mean(RFM_data.Frequency)"
   ]
  },
  {
   "cell_type": "code",
   "execution_count": 75,
   "metadata": {},
   "outputs": [
    {
     "data": {
      "text/plain": [
       "213.25602495601277"
      ]
     },
     "execution_count": 75,
     "metadata": {},
     "output_type": "execute_result"
    }
   ],
   "source": [
    "np.mean(RFM_data.MonetaryValue)"
   ]
  },
  {
   "cell_type": "code",
   "execution_count": 76,
   "metadata": {},
   "outputs": [
    {
     "data": {
      "text/html": [
       "<div>\n",
       "<style scoped>\n",
       "    .dataframe tbody tr th:only-of-type {\n",
       "        vertical-align: middle;\n",
       "    }\n",
       "\n",
       "    .dataframe tbody tr th {\n",
       "        vertical-align: top;\n",
       "    }\n",
       "\n",
       "    .dataframe thead th {\n",
       "        text-align: right;\n",
       "    }\n",
       "</style>\n",
       "<table border=\"1\" class=\"dataframe\">\n",
       "  <thead>\n",
       "    <tr style=\"text-align: right;\">\n",
       "      <th></th>\n",
       "      <th>Recency</th>\n",
       "      <th>Frequency</th>\n",
       "      <th>MonetaryValue</th>\n",
       "    </tr>\n",
       "  </thead>\n",
       "  <tbody>\n",
       "    <tr>\n",
       "      <th>count</th>\n",
       "      <td>92082.000000</td>\n",
       "      <td>92082.000000</td>\n",
       "      <td>92082.000000</td>\n",
       "    </tr>\n",
       "    <tr>\n",
       "      <th>mean</th>\n",
       "      <td>237.220184</td>\n",
       "      <td>1.238831</td>\n",
       "      <td>213.256025</td>\n",
       "    </tr>\n",
       "    <tr>\n",
       "      <th>std</th>\n",
       "      <td>152.583701</td>\n",
       "      <td>0.847653</td>\n",
       "      <td>647.733987</td>\n",
       "    </tr>\n",
       "    <tr>\n",
       "      <th>min</th>\n",
       "      <td>1.000000</td>\n",
       "      <td>1.000000</td>\n",
       "      <td>9.590000</td>\n",
       "    </tr>\n",
       "    <tr>\n",
       "      <th>25%</th>\n",
       "      <td>114.000000</td>\n",
       "      <td>1.000000</td>\n",
       "      <td>63.902500</td>\n",
       "    </tr>\n",
       "    <tr>\n",
       "      <th>50%</th>\n",
       "      <td>218.000000</td>\n",
       "      <td>1.000000</td>\n",
       "      <td>112.955000</td>\n",
       "    </tr>\n",
       "    <tr>\n",
       "      <th>75%</th>\n",
       "      <td>346.000000</td>\n",
       "      <td>1.000000</td>\n",
       "      <td>203.090000</td>\n",
       "    </tr>\n",
       "    <tr>\n",
       "      <th>max</th>\n",
       "      <td>695.000000</td>\n",
       "      <td>75.000000</td>\n",
       "      <td>109312.640000</td>\n",
       "    </tr>\n",
       "  </tbody>\n",
       "</table>\n",
       "</div>"
      ],
      "text/plain": [
       "            Recency     Frequency  MonetaryValue\n",
       "count  92082.000000  92082.000000   92082.000000\n",
       "mean     237.220184      1.238831     213.256025\n",
       "std      152.583701      0.847653     647.733987\n",
       "min        1.000000      1.000000       9.590000\n",
       "25%      114.000000      1.000000      63.902500\n",
       "50%      218.000000      1.000000     112.955000\n",
       "75%      346.000000      1.000000     203.090000\n",
       "max      695.000000     75.000000  109312.640000"
      ]
     },
     "execution_count": 76,
     "metadata": {},
     "output_type": "execute_result"
    }
   ],
   "source": [
    "RFM_data. describe()"
   ]
  },
  {
   "cell_type": "markdown",
   "metadata": {},
   "source": [
    "### Data preprocessing"
   ]
  },
  {
   "cell_type": "code",
   "execution_count": 77,
   "metadata": {},
   "outputs": [
    {
     "data": {
      "image/png": "[encoded data removed]",
      "text/plain": [
       "<Figure size 1440x360 with 3 Axes>"
      ]
     },
     "metadata": {
      "needs_background": "light"
     },
     "output_type": "display_data"
    }
   ],
   "source": [
    "#plotting subplots and figure size\n",
    "figure, tile = plt.subplots(1, 3,figsize =(20, 5));\n",
    " \n",
    "sns.distplot(RFM_data['Recency'] ,color = '#41729F', ax = tile[0]);\n",
    "tile[0].set_title(\"distribution of Recency\");\n",
    "\n",
    "\n",
    "\n",
    "sns.distplot(RFM_data['Frequency'],  color = '#41729F',ax = tile[1]);\n",
    "tile[1].set_title(\"distribution of Frequency\");\n",
    "\n",
    "\n",
    "\n",
    "sns.distplot(RFM_data['MonetaryValue'],  color = '#41729F',ax = tile[2]);\n",
    "tile[2].set_title(\"distribution of MonetaryValue\");\n",
    "\n"
   ]
  },
  {
   "cell_type": "code",
   "execution_count": 78,
   "metadata": {},
   "outputs": [],
   "source": [
    "RFM_data['recency_log'] = np.log(RFM_data['Recency'])\n",
    "RFM_data['freq_log'] = np.log(RFM_data['Frequency'])\n",
    "RFM_data['monetary_log'] = np.log(RFM_data['MonetaryValue'])"
   ]
  },
  {
   "cell_type": "code",
   "execution_count": 79,
   "metadata": {},
   "outputs": [
    {
     "data": {
      "image/png": "[encoded data removed]",
      "text/plain": [
       "<Figure size 1440x360 with 3 Axes>"
      ]
     },
     "metadata": {
      "needs_background": "light"
     },
     "output_type": "display_data"
    }
   ],
   "source": [
    "#plotting subplots and figure size\n",
    "figure, tile = plt.subplots(1, 3,figsize =(20, 5));\n",
    " \n",
    "sns.distplot(RFM_data['recency_log'] ,color = '#41729F', ax = tile[0]);\n",
    "tile[0].set_title(\"distribution of Recency\");\n",
    "\n",
    "\n",
    "\n",
    "sns.distplot(RFM_data['freq_log'],  color = '#41729F',ax = tile[1]);\n",
    "tile[1].set_title(\"distribution of Frequency\");\n",
    "\n",
    "\n",
    "\n",
    "sns.distplot(RFM_data['monetary_log'],  color = '#41729F',ax = tile[2]);\n",
    "tile[2].set_title(\"distribution of MonetaryValue\");\n"
   ]
  },
  {
   "cell_type": "code",
   "execution_count": 80,
   "metadata": {},
   "outputs": [],
   "source": [
    "log_data = RFM_data[['recency_log','freq_log','monetary_log','customer_unique_id']].copy()"
   ]
  },
  {
   "cell_type": "code",
   "execution_count": 81,
   "metadata": {
    "scrolled": true
   },
   "outputs": [
    {
     "name": "stdout",
     "output_type": "stream",
     "text": [
      "<class 'pandas.core.frame.DataFrame'>\n",
      "Int64Index: 92082 entries, 0 to 92081\n",
      "Data columns (total 4 columns):\n",
      "recency_log           92082 non-null float64\n",
      "freq_log              92082 non-null float64\n",
      "monetary_log          92082 non-null float64\n",
      "customer_unique_id    92082 non-null object\n",
      "dtypes: float64(3), object(1)\n",
      "memory usage: 3.5+ MB\n"
     ]
    }
   ],
   "source": [
    "log_data.info()"
   ]
  },
  {
   "cell_type": "code",
   "execution_count": 82,
   "metadata": {},
   "outputs": [],
   "source": [
    "col_names = ['recency_log', 'freq_log','monetary_log']"
   ]
  },
  {
   "cell_type": "code",
   "execution_count": 83,
   "metadata": {},
   "outputs": [
    {
     "data": {
      "text/html": [
       "<div>\n",
       "<style scoped>\n",
       "    .dataframe tbody tr th:only-of-type {\n",
       "        vertical-align: middle;\n",
       "    }\n",
       "\n",
       "    .dataframe tbody tr th {\n",
       "        vertical-align: top;\n",
       "    }\n",
       "\n",
       "    .dataframe thead th {\n",
       "        text-align: right;\n",
       "    }\n",
       "</style>\n",
       "<table border=\"1\" class=\"dataframe\">\n",
       "  <thead>\n",
       "    <tr style=\"text-align: right;\">\n",
       "      <th></th>\n",
       "      <th>recency_log</th>\n",
       "      <th>freq_log</th>\n",
       "      <th>monetary_log</th>\n",
       "    </tr>\n",
       "  </thead>\n",
       "  <tbody>\n",
       "    <tr>\n",
       "      <th>0</th>\n",
       "      <td>-0.453533</td>\n",
       "      <td>-0.387569</td>\n",
       "      <td>0.165575</td>\n",
       "    </tr>\n",
       "    <tr>\n",
       "      <th>1</th>\n",
       "      <td>-0.425790</td>\n",
       "      <td>-0.387569</td>\n",
       "      <td>-1.635747</td>\n",
       "    </tr>\n",
       "    <tr>\n",
       "      <th>2</th>\n",
       "      <td>1.191639</td>\n",
       "      <td>-0.387569</td>\n",
       "      <td>-0.377589</td>\n",
       "    </tr>\n",
       "    <tr>\n",
       "      <th>3</th>\n",
       "      <td>0.651585</td>\n",
       "      <td>-0.387569</td>\n",
       "      <td>-1.120442</td>\n",
       "    </tr>\n",
       "    <tr>\n",
       "      <th>4</th>\n",
       "      <td>0.537729</td>\n",
       "      <td>-0.387569</td>\n",
       "      <td>0.522643</td>\n",
       "    </tr>\n",
       "  </tbody>\n",
       "</table>\n",
       "</div>"
      ],
      "text/plain": [
       "   recency_log  freq_log  monetary_log\n",
       "0    -0.453533 -0.387569      0.165575\n",
       "1    -0.425790 -0.387569     -1.635747\n",
       "2     1.191639 -0.387569     -0.377589\n",
       "3     0.651585 -0.387569     -1.120442\n",
       "4     0.537729 -0.387569      0.522643"
      ]
     },
     "execution_count": 83,
     "metadata": {},
     "output_type": "execute_result"
    }
   ],
   "source": [
    "from sklearn.preprocessing import StandardScaler\n",
    "\n",
    "scaler = StandardScaler()\n",
    "\n",
    "scaled_data = scaler.fit_transform(log_data[col_names])\n",
    "                                   \n",
    "scaled_data = pd.DataFrame(scaled_data, columns = col_names)\n",
    "scaled_data.head()"
   ]
  },
  {
   "cell_type": "code",
   "execution_count": 84,
   "metadata": {},
   "outputs": [
    {
     "data": {
      "text/html": [
       "<div>\n",
       "<style scoped>\n",
       "    .dataframe tbody tr th:only-of-type {\n",
       "        vertical-align: middle;\n",
       "    }\n",
       "\n",
       "    .dataframe tbody tr th {\n",
       "        vertical-align: top;\n",
       "    }\n",
       "\n",
       "    .dataframe thead th {\n",
       "        text-align: right;\n",
       "    }\n",
       "</style>\n",
       "<table border=\"1\" class=\"dataframe\">\n",
       "  <thead>\n",
       "    <tr style=\"text-align: right;\">\n",
       "      <th></th>\n",
       "      <th>recency_log</th>\n",
       "      <th>freq_log</th>\n",
       "      <th>monetary_log</th>\n",
       "      <th>customer_unique_id</th>\n",
       "    </tr>\n",
       "  </thead>\n",
       "  <tbody>\n",
       "    <tr>\n",
       "      <th>0</th>\n",
       "      <td>4.718499</td>\n",
       "      <td>0.0</td>\n",
       "      <td>4.955123</td>\n",
       "      <td>0000366f3b9a7992bf8c76cfdf3221e2</td>\n",
       "    </tr>\n",
       "    <tr>\n",
       "      <th>1</th>\n",
       "      <td>4.744932</td>\n",
       "      <td>0.0</td>\n",
       "      <td>3.302849</td>\n",
       "      <td>0000b849f77a49e4a4ce2b2a4ca5be3f</td>\n",
       "    </tr>\n",
       "    <tr>\n",
       "      <th>2</th>\n",
       "      <td>6.285998</td>\n",
       "      <td>0.0</td>\n",
       "      <td>4.456902</td>\n",
       "      <td>0000f46a3911fa3c0805444483337064</td>\n",
       "    </tr>\n",
       "    <tr>\n",
       "      <th>3</th>\n",
       "      <td>5.771441</td>\n",
       "      <td>0.0</td>\n",
       "      <td>3.775516</td>\n",
       "      <td>0000f6ccb0745a6a4b88665a16c9f078</td>\n",
       "    </tr>\n",
       "    <tr>\n",
       "      <th>4</th>\n",
       "      <td>5.662960</td>\n",
       "      <td>0.0</td>\n",
       "      <td>5.282645</td>\n",
       "      <td>0004aac84e0df4da2b147fca70cf8255</td>\n",
       "    </tr>\n",
       "  </tbody>\n",
       "</table>\n",
       "</div>"
      ],
      "text/plain": [
       "   recency_log  freq_log  monetary_log                customer_unique_id\n",
       "0     4.718499       0.0      4.955123  0000366f3b9a7992bf8c76cfdf3221e2\n",
       "1     4.744932       0.0      3.302849  0000b849f77a49e4a4ce2b2a4ca5be3f\n",
       "2     6.285998       0.0      4.456902  0000f46a3911fa3c0805444483337064\n",
       "3     5.771441       0.0      3.775516  0000f6ccb0745a6a4b88665a16c9f078\n",
       "4     5.662960       0.0      5.282645  0004aac84e0df4da2b147fca70cf8255"
      ]
     },
     "execution_count": 84,
     "metadata": {},
     "output_type": "execute_result"
    }
   ],
   "source": [
    "log_data.head()"
   ]
  },
  {
   "cell_type": "code",
   "execution_count": 85,
   "metadata": {},
   "outputs": [],
   "source": [
    "log_data = log_data.drop(columns=col_names ,axis=1)\n",
    "df_norm = log_data.merge(scaled_data , how=\"left\", left_index=True,  right_index=True)\n"
   ]
  },
  {
   "cell_type": "code",
   "execution_count": 86,
   "metadata": {},
   "outputs": [
    {
     "name": "stdout",
     "output_type": "stream",
     "text": [
      "<class 'pandas.core.frame.DataFrame'>\n",
      "Int64Index: 92082 entries, 0 to 92081\n",
      "Data columns (total 4 columns):\n",
      "customer_unique_id    92082 non-null object\n",
      "recency_log           92082 non-null float64\n",
      "freq_log              92082 non-null float64\n",
      "monetary_log          92082 non-null float64\n",
      "dtypes: float64(3), object(1)\n",
      "memory usage: 6.0+ MB\n"
     ]
    }
   ],
   "source": [
    "df_norm.info()"
   ]
  },
  {
   "cell_type": "code",
   "execution_count": 87,
   "metadata": {},
   "outputs": [
    {
     "data": {
      "text/html": [
       "<div>\n",
       "<style scoped>\n",
       "    .dataframe tbody tr th:only-of-type {\n",
       "        vertical-align: middle;\n",
       "    }\n",
       "\n",
       "    .dataframe tbody tr th {\n",
       "        vertical-align: top;\n",
       "    }\n",
       "\n",
       "    .dataframe thead th {\n",
       "        text-align: right;\n",
       "    }\n",
       "</style>\n",
       "<table border=\"1\" class=\"dataframe\">\n",
       "  <thead>\n",
       "    <tr style=\"text-align: right;\">\n",
       "      <th></th>\n",
       "      <th>customer_unique_id</th>\n",
       "      <th>recency_log</th>\n",
       "      <th>freq_log</th>\n",
       "      <th>monetary_log</th>\n",
       "    </tr>\n",
       "  </thead>\n",
       "  <tbody>\n",
       "    <tr>\n",
       "      <th>0</th>\n",
       "      <td>0000366f3b9a7992bf8c76cfdf3221e2</td>\n",
       "      <td>-0.453533</td>\n",
       "      <td>-0.387569</td>\n",
       "      <td>0.165575</td>\n",
       "    </tr>\n",
       "    <tr>\n",
       "      <th>1</th>\n",
       "      <td>0000b849f77a49e4a4ce2b2a4ca5be3f</td>\n",
       "      <td>-0.425790</td>\n",
       "      <td>-0.387569</td>\n",
       "      <td>-1.635747</td>\n",
       "    </tr>\n",
       "    <tr>\n",
       "      <th>2</th>\n",
       "      <td>0000f46a3911fa3c0805444483337064</td>\n",
       "      <td>1.191639</td>\n",
       "      <td>-0.387569</td>\n",
       "      <td>-0.377589</td>\n",
       "    </tr>\n",
       "    <tr>\n",
       "      <th>3</th>\n",
       "      <td>0000f6ccb0745a6a4b88665a16c9f078</td>\n",
       "      <td>0.651585</td>\n",
       "      <td>-0.387569</td>\n",
       "      <td>-1.120442</td>\n",
       "    </tr>\n",
       "    <tr>\n",
       "      <th>4</th>\n",
       "      <td>0004aac84e0df4da2b147fca70cf8255</td>\n",
       "      <td>0.537729</td>\n",
       "      <td>-0.387569</td>\n",
       "      <td>0.522643</td>\n",
       "    </tr>\n",
       "  </tbody>\n",
       "</table>\n",
       "</div>"
      ],
      "text/plain": [
       "                 customer_unique_id  recency_log  freq_log  monetary_log\n",
       "0  0000366f3b9a7992bf8c76cfdf3221e2    -0.453533 -0.387569      0.165575\n",
       "1  0000b849f77a49e4a4ce2b2a4ca5be3f    -0.425790 -0.387569     -1.635747\n",
       "2  0000f46a3911fa3c0805444483337064     1.191639 -0.387569     -0.377589\n",
       "3  0000f6ccb0745a6a4b88665a16c9f078     0.651585 -0.387569     -1.120442\n",
       "4  0004aac84e0df4da2b147fca70cf8255     0.537729 -0.387569      0.522643"
      ]
     },
     "execution_count": 87,
     "metadata": {},
     "output_type": "execute_result"
    }
   ],
   "source": [
    "df_norm.head()"
   ]
  },
  {
   "cell_type": "code",
   "execution_count": 88,
   "metadata": {},
   "outputs": [
    {
     "data": {
      "text/html": [
       "<div>\n",
       "<style scoped>\n",
       "    .dataframe tbody tr th:only-of-type {\n",
       "        vertical-align: middle;\n",
       "    }\n",
       "\n",
       "    .dataframe tbody tr th {\n",
       "        vertical-align: top;\n",
       "    }\n",
       "\n",
       "    .dataframe thead th {\n",
       "        text-align: right;\n",
       "    }\n",
       "</style>\n",
       "<table border=\"1\" class=\"dataframe\">\n",
       "  <thead>\n",
       "    <tr style=\"text-align: right;\">\n",
       "      <th></th>\n",
       "      <th>recency_log</th>\n",
       "      <th>freq_log</th>\n",
       "      <th>monetary_log</th>\n",
       "    </tr>\n",
       "  </thead>\n",
       "  <tbody>\n",
       "    <tr>\n",
       "      <th>count</th>\n",
       "      <td>9.208200e+04</td>\n",
       "      <td>9.208200e+04</td>\n",
       "      <td>9.208200e+04</td>\n",
       "    </tr>\n",
       "    <tr>\n",
       "      <th>mean</th>\n",
       "      <td>5.820707e-16</td>\n",
       "      <td>4.489246e-15</td>\n",
       "      <td>6.205033e-16</td>\n",
       "    </tr>\n",
       "    <tr>\n",
       "      <th>std</th>\n",
       "      <td>1.000005e+00</td>\n",
       "      <td>1.000005e+00</td>\n",
       "      <td>1.000005e+00</td>\n",
       "    </tr>\n",
       "    <tr>\n",
       "      <th>min</th>\n",
       "      <td>-5.405844e+00</td>\n",
       "      <td>-3.875689e-01</td>\n",
       "      <td>-2.771883e+00</td>\n",
       "    </tr>\n",
       "    <tr>\n",
       "      <th>25%</th>\n",
       "      <td>-4.349565e-01</td>\n",
       "      <td>-3.875689e-01</td>\n",
       "      <td>-7.041536e-01</td>\n",
       "    </tr>\n",
       "    <tr>\n",
       "      <th>50%</th>\n",
       "      <td>2.454646e-01</td>\n",
       "      <td>-3.875689e-01</td>\n",
       "      <td>-8.313724e-02</td>\n",
       "    </tr>\n",
       "    <tr>\n",
       "      <th>75%</th>\n",
       "      <td>7.302987e-01</td>\n",
       "      <td>-3.875689e-01</td>\n",
       "      <td>5.564440e-01</td>\n",
       "    </tr>\n",
       "    <tr>\n",
       "      <th>max</th>\n",
       "      <td>1.462333e+00</td>\n",
       "      <td>1.237337e+01</td>\n",
       "      <td>7.412020e+00</td>\n",
       "    </tr>\n",
       "  </tbody>\n",
       "</table>\n",
       "</div>"
      ],
      "text/plain": [
       "        recency_log      freq_log  monetary_log\n",
       "count  9.208200e+04  9.208200e+04  9.208200e+04\n",
       "mean   5.820707e-16  4.489246e-15  6.205033e-16\n",
       "std    1.000005e+00  1.000005e+00  1.000005e+00\n",
       "min   -5.405844e+00 -3.875689e-01 -2.771883e+00\n",
       "25%   -4.349565e-01 -3.875689e-01 -7.041536e-01\n",
       "50%    2.454646e-01 -3.875689e-01 -8.313724e-02\n",
       "75%    7.302987e-01 -3.875689e-01  5.564440e-01\n",
       "max    1.462333e+00  1.237337e+01  7.412020e+00"
      ]
     },
     "execution_count": 88,
     "metadata": {},
     "output_type": "execute_result"
    }
   ],
   "source": [
    "df_norm.describe()"
   ]
  },
  {
   "cell_type": "code",
   "execution_count": 89,
   "metadata": {},
   "outputs": [
    {
     "name": "stderr",
     "output_type": "stream",
     "text": [
      "C:\\ProgramData\\Anaconda3\\lib\\site-packages\\scipy\\stats\\stats.py:1713: FutureWarning: Using a non-tuple sequence for multidimensional indexing is deprecated; use `arr[tuple(seq)]` instead of `arr[seq]`. In the future this will be interpreted as an array index, `arr[np.array(seq)]`, which will result either in an error or a different result.\n",
      "  return np.add.reduce(sorted[indexer] * weights, axis=axis) / sumval\n"
     ]
    },
    {
     "data": {
      "image/png": "[encoded data removed]",
      "text/plain": [
       "<Figure size 1440x360 with 3 Axes>"
      ]
     },
     "metadata": {
      "needs_background": "light"
     },
     "output_type": "display_data"
    }
   ],
   "source": [
    "#plotting subplots and figure size\n",
    "figure, tile = plt.subplots(1, 3,figsize =(20, 5));\n",
    " \n",
    "sns.distplot(df_norm['recency_log'] ,color = '#41729F', ax = tile[0]);\n",
    "tile[0].set_title(\"distribution of Recency\");\n",
    "\n",
    "\n",
    "\n",
    "sns.distplot(df_norm['freq_log'],  color = '#41729F',ax = tile[1]);\n",
    "tile[1].set_title(\"distribution of Frequency\");\n",
    "\n",
    "\n",
    "\n",
    "sns.distplot(df_norm['monetary_log'],  color = '#41729F',ax = tile[2]);\n",
    "tile[2].set_title(\"distribution of MonetaryValue\");"
   ]
  },
  {
   "cell_type": "markdown",
   "metadata": {},
   "source": [
    "## KMeans algorithm"
   ]
  },
  {
   "cell_type": "markdown",
   "metadata": {},
   "source": [
    "### 3 clusters"
   ]
  },
  {
   "cell_type": "code",
   "execution_count": 90,
   "metadata": {},
   "outputs": [],
   "source": [
    "# Import KMeans \n",
    "from sklearn.cluster import KMeans\n",
    "\n",
    "# Initialize KMeans with 3 clusters\n",
    "kmeans = KMeans (n_clusters=3, random_state=1) \n",
    "\n",
    "# Fit k-means clustering on the normalized data set\n",
    "kmeans.fit(df_norm[col_names])\n",
    "\n",
    "# Extract cluster labels\n",
    "cluster_labels = kmeans.labels_"
   ]
  },
  {
   "cell_type": "code",
   "execution_count": 91,
   "metadata": {
    "scrolled": true
   },
   "outputs": [
    {
     "data": {
      "text/html": [
       "<div>\n",
       "<style scoped>\n",
       "    .dataframe tbody tr th:only-of-type {\n",
       "        vertical-align: middle;\n",
       "    }\n",
       "\n",
       "    .dataframe tbody tr th {\n",
       "        vertical-align: top;\n",
       "    }\n",
       "\n",
       "    .dataframe thead tr th {\n",
       "        text-align: left;\n",
       "    }\n",
       "\n",
       "    .dataframe thead tr:last-of-type th {\n",
       "        text-align: right;\n",
       "    }\n",
       "</style>\n",
       "<table border=\"1\" class=\"dataframe\">\n",
       "  <thead>\n",
       "    <tr>\n",
       "      <th></th>\n",
       "      <th>recency_log</th>\n",
       "      <th>freq_log</th>\n",
       "      <th>monetary_log</th>\n",
       "      <th>customer_unique_id</th>\n",
       "    </tr>\n",
       "    <tr>\n",
       "      <th></th>\n",
       "      <th>mean</th>\n",
       "      <th>mean</th>\n",
       "      <th>mean</th>\n",
       "      <th>count</th>\n",
       "    </tr>\n",
       "    <tr>\n",
       "      <th>Cluster</th>\n",
       "      <th></th>\n",
       "      <th></th>\n",
       "      <th></th>\n",
       "      <th></th>\n",
       "    </tr>\n",
       "  </thead>\n",
       "  <tbody>\n",
       "    <tr>\n",
       "      <th>0</th>\n",
       "      <td>0.4</td>\n",
       "      <td>-0.4</td>\n",
       "      <td>-0.2</td>\n",
       "      <td>62111</td>\n",
       "    </tr>\n",
       "    <tr>\n",
       "      <th>1</th>\n",
       "      <td>0.1</td>\n",
       "      <td>2.2</td>\n",
       "      <td>1.1</td>\n",
       "      <td>13024</td>\n",
       "    </tr>\n",
       "    <tr>\n",
       "      <th>2</th>\n",
       "      <td>-1.6</td>\n",
       "      <td>-0.3</td>\n",
       "      <td>-0.1</td>\n",
       "      <td>16947</td>\n",
       "    </tr>\n",
       "  </tbody>\n",
       "</table>\n",
       "</div>"
      ],
      "text/plain": [
       "        recency_log freq_log monetary_log customer_unique_id\n",
       "               mean     mean         mean              count\n",
       "Cluster                                                     \n",
       "0               0.4     -0.4         -0.2              62111\n",
       "1               0.1      2.2          1.1              13024\n",
       "2              -1.6     -0.3         -0.1              16947"
      ]
     },
     "execution_count": 91,
     "metadata": {},
     "output_type": "execute_result"
    }
   ],
   "source": [
    "# Create a DataFrame by adding a new cluster label column\n",
    "data_rfm_k3 = df_norm.assign(Cluster = cluster_labels)\n",
    "\n",
    "# Group the data by cluster\n",
    "groupe = data_rfm_k3.groupby(['Cluster'])\n",
    "\n",
    "# Calculate average RFM values and segment sizes per cluster value\n",
    "groupe.agg({\n",
    "    'recency_log': 'mean',\n",
    "    'freq_log': 'mean',\n",
    "    'monetary_log': ['mean'],\n",
    "    'customer_unique_id': 'count'}).round(1)"
   ]
  },
  {
   "cell_type": "code",
   "execution_count": 92,
   "metadata": {},
   "outputs": [
    {
     "name": "stdout",
     "output_type": "stream",
     "text": [
      "<class 'pandas.core.frame.DataFrame'>\n",
      "Int64Index: 92082 entries, 0 to 92081\n",
      "Data columns (total 5 columns):\n",
      "customer_unique_id    92082 non-null object\n",
      "recency_log           92082 non-null float64\n",
      "freq_log              92082 non-null float64\n",
      "monetary_log          92082 non-null float64\n",
      "Cluster               92082 non-null int32\n",
      "dtypes: float64(3), int32(1), object(1)\n",
      "memory usage: 6.4+ MB\n"
     ]
    }
   ],
   "source": [
    "data_rfm_k3.info()"
   ]
  },
  {
   "cell_type": "code",
   "execution_count": 93,
   "metadata": {},
   "outputs": [
    {
     "data": {
      "text/html": [
       "<div>\n",
       "<style scoped>\n",
       "    .dataframe tbody tr th:only-of-type {\n",
       "        vertical-align: middle;\n",
       "    }\n",
       "\n",
       "    .dataframe tbody tr th {\n",
       "        vertical-align: top;\n",
       "    }\n",
       "\n",
       "    .dataframe thead th {\n",
       "        text-align: right;\n",
       "    }\n",
       "</style>\n",
       "<table border=\"1\" class=\"dataframe\">\n",
       "  <thead>\n",
       "    <tr style=\"text-align: right;\">\n",
       "      <th></th>\n",
       "      <th>customer_unique_id</th>\n",
       "      <th>recency_log</th>\n",
       "      <th>freq_log</th>\n",
       "      <th>monetary_log</th>\n",
       "      <th>Cluster</th>\n",
       "    </tr>\n",
       "  </thead>\n",
       "  <tbody>\n",
       "    <tr>\n",
       "      <th>0</th>\n",
       "      <td>0000366f3b9a7992bf8c76cfdf3221e2</td>\n",
       "      <td>-0.453533</td>\n",
       "      <td>-0.387569</td>\n",
       "      <td>0.165575</td>\n",
       "      <td>0</td>\n",
       "    </tr>\n",
       "    <tr>\n",
       "      <th>1</th>\n",
       "      <td>0000b849f77a49e4a4ce2b2a4ca5be3f</td>\n",
       "      <td>-0.425790</td>\n",
       "      <td>-0.387569</td>\n",
       "      <td>-1.635747</td>\n",
       "      <td>0</td>\n",
       "    </tr>\n",
       "    <tr>\n",
       "      <th>2</th>\n",
       "      <td>0000f46a3911fa3c0805444483337064</td>\n",
       "      <td>1.191639</td>\n",
       "      <td>-0.387569</td>\n",
       "      <td>-0.377589</td>\n",
       "      <td>0</td>\n",
       "    </tr>\n",
       "    <tr>\n",
       "      <th>3</th>\n",
       "      <td>0000f6ccb0745a6a4b88665a16c9f078</td>\n",
       "      <td>0.651585</td>\n",
       "      <td>-0.387569</td>\n",
       "      <td>-1.120442</td>\n",
       "      <td>0</td>\n",
       "    </tr>\n",
       "    <tr>\n",
       "      <th>4</th>\n",
       "      <td>0004aac84e0df4da2b147fca70cf8255</td>\n",
       "      <td>0.537729</td>\n",
       "      <td>-0.387569</td>\n",
       "      <td>0.522643</td>\n",
       "      <td>0</td>\n",
       "    </tr>\n",
       "  </tbody>\n",
       "</table>\n",
       "</div>"
      ],
      "text/plain": [
       "                 customer_unique_id  recency_log  freq_log  monetary_log  \\\n",
       "0  0000366f3b9a7992bf8c76cfdf3221e2    -0.453533 -0.387569      0.165575   \n",
       "1  0000b849f77a49e4a4ce2b2a4ca5be3f    -0.425790 -0.387569     -1.635747   \n",
       "2  0000f46a3911fa3c0805444483337064     1.191639 -0.387569     -0.377589   \n",
       "3  0000f6ccb0745a6a4b88665a16c9f078     0.651585 -0.387569     -1.120442   \n",
       "4  0004aac84e0df4da2b147fca70cf8255     0.537729 -0.387569      0.522643   \n",
       "\n",
       "   Cluster  \n",
       "0        0  \n",
       "1        0  \n",
       "2        0  \n",
       "3        0  \n",
       "4        0  "
      ]
     },
     "execution_count": 93,
     "metadata": {},
     "output_type": "execute_result"
    }
   ],
   "source": [
    "data_rfm_k3.head()"
   ]
  },
  {
   "cell_type": "markdown",
   "metadata": {},
   "source": [
    "### elbow method"
   ]
  },
  {
   "cell_type": "code",
   "execution_count": 94,
   "metadata": {},
   "outputs": [
    {
     "data": {
      "text/plain": [
       "{1: 276245.99999999994,\n",
       " 2: 181648.150297807,\n",
       " 3: 127011.43370532797,\n",
       " 4: 96230.8171956113,\n",
       " 5: 83310.38651048695,\n",
       " 6: 73119.06463485946,\n",
       " 7: 64459.672665761376,\n",
       " 8: 58536.57002501986,\n",
       " 9: 53047.08306210317,\n",
       " 10: 48333.78303575344}"
      ]
     },
     "execution_count": 94,
     "metadata": {},
     "output_type": "execute_result"
    }
   ],
   "source": [
    "error_value = {}\n",
    "\n",
    "# Fit KMeans and calculate erorr for each k\n",
    "for k in range(1,11):\n",
    "  \n",
    "    # Initialize KMeans with k clusters\n",
    "    kmeans = KMeans(n_clusters= k, random_state=1)\n",
    "    \n",
    "    # Fit KMeans on the normalized dataset\n",
    "    kmeans.fit(df_norm[col_names])\n",
    "    \n",
    "    # Assign sum of squared distances to k element of dictionary\n",
    "    error_value[k] = kmeans.inertia_\n",
    "error_value"
   ]
  },
  {
   "cell_type": "code",
   "execution_count": 95,
   "metadata": {},
   "outputs": [
    {
     "data": {
      "image/png": "[encoded data removed]",
      "text/plain": [
       "<Figure size 432x288 with 1 Axes>"
      ]
     },
     "metadata": {
      "needs_background": "light"
     },
     "output_type": "display_data"
    }
   ],
   "source": [
    "plt.xlabel('Number Of Clusters')\n",
    "plt.ylabel('Erorr')\n",
    "\n",
    "# Plot Error values for each key in the dictionary\n",
    "sns.pointplot(x=list(error_value.keys()), y=list(error_value.values()))\n",
    "\n",
    "plt.show()"
   ]
  },
  {
   "cell_type": "markdown",
   "metadata": {},
   "source": [
    "#### according to chart we will try  4 and 5 clusters"
   ]
  },
  {
   "cell_type": "markdown",
   "metadata": {},
   "source": [
    "## 4 clusters"
   ]
  },
  {
   "cell_type": "code",
   "execution_count": 96,
   "metadata": {},
   "outputs": [],
   "source": [
    "# Initialize KMeans\n",
    "kmeans = KMeans (n_clusters=4, random_state=1) \n",
    "\n",
    "# Fit k-means clustering on the normalized data set\n",
    "kmeans.fit(df_norm [col_names])\n",
    "\n",
    "# Extract cluster labels\n",
    "cluster_labels = kmeans.labels_"
   ]
  },
  {
   "cell_type": "code",
   "execution_count": 97,
   "metadata": {},
   "outputs": [],
   "source": [
    "data_rfm_k4 = df_norm.assign(Cluster = cluster_labels)"
   ]
  },
  {
   "cell_type": "code",
   "execution_count": 98,
   "metadata": {},
   "outputs": [
    {
     "data": {
      "text/html": [
       "<div>\n",
       "<style scoped>\n",
       "    .dataframe tbody tr th:only-of-type {\n",
       "        vertical-align: middle;\n",
       "    }\n",
       "\n",
       "    .dataframe tbody tr th {\n",
       "        vertical-align: top;\n",
       "    }\n",
       "\n",
       "    .dataframe thead th {\n",
       "        text-align: right;\n",
       "    }\n",
       "</style>\n",
       "<table border=\"1\" class=\"dataframe\">\n",
       "  <thead>\n",
       "    <tr style=\"text-align: right;\">\n",
       "      <th></th>\n",
       "      <th>customer_unique_id</th>\n",
       "      <th>recency_log</th>\n",
       "      <th>freq_log</th>\n",
       "      <th>monetary_log</th>\n",
       "      <th>Cluster</th>\n",
       "    </tr>\n",
       "  </thead>\n",
       "  <tbody>\n",
       "    <tr>\n",
       "      <th>0</th>\n",
       "      <td>0000366f3b9a7992bf8c76cfdf3221e2</td>\n",
       "      <td>-0.453533</td>\n",
       "      <td>-0.387569</td>\n",
       "      <td>0.165575</td>\n",
       "      <td>1</td>\n",
       "    </tr>\n",
       "    <tr>\n",
       "      <th>1</th>\n",
       "      <td>0000b849f77a49e4a4ce2b2a4ca5be3f</td>\n",
       "      <td>-0.425790</td>\n",
       "      <td>-0.387569</td>\n",
       "      <td>-1.635747</td>\n",
       "      <td>3</td>\n",
       "    </tr>\n",
       "    <tr>\n",
       "      <th>2</th>\n",
       "      <td>0000f46a3911fa3c0805444483337064</td>\n",
       "      <td>1.191639</td>\n",
       "      <td>-0.387569</td>\n",
       "      <td>-0.377589</td>\n",
       "      <td>3</td>\n",
       "    </tr>\n",
       "    <tr>\n",
       "      <th>3</th>\n",
       "      <td>0000f6ccb0745a6a4b88665a16c9f078</td>\n",
       "      <td>0.651585</td>\n",
       "      <td>-0.387569</td>\n",
       "      <td>-1.120442</td>\n",
       "      <td>3</td>\n",
       "    </tr>\n",
       "    <tr>\n",
       "      <th>4</th>\n",
       "      <td>0004aac84e0df4da2b147fca70cf8255</td>\n",
       "      <td>0.537729</td>\n",
       "      <td>-0.387569</td>\n",
       "      <td>0.522643</td>\n",
       "      <td>1</td>\n",
       "    </tr>\n",
       "  </tbody>\n",
       "</table>\n",
       "</div>"
      ],
      "text/plain": [
       "                 customer_unique_id  recency_log  freq_log  monetary_log  \\\n",
       "0  0000366f3b9a7992bf8c76cfdf3221e2    -0.453533 -0.387569      0.165575   \n",
       "1  0000b849f77a49e4a4ce2b2a4ca5be3f    -0.425790 -0.387569     -1.635747   \n",
       "2  0000f46a3911fa3c0805444483337064     1.191639 -0.387569     -0.377589   \n",
       "3  0000f6ccb0745a6a4b88665a16c9f078     0.651585 -0.387569     -1.120442   \n",
       "4  0004aac84e0df4da2b147fca70cf8255     0.537729 -0.387569      0.522643   \n",
       "\n",
       "   Cluster  \n",
       "0        1  \n",
       "1        3  \n",
       "2        3  \n",
       "3        3  \n",
       "4        1  "
      ]
     },
     "execution_count": 98,
     "metadata": {},
     "output_type": "execute_result"
    }
   ],
   "source": [
    "data_rfm_k4.head()"
   ]
  },
  {
   "cell_type": "code",
   "execution_count": 99,
   "metadata": {},
   "outputs": [],
   "source": [
    "result_4clusters = pd.merge(RFM_data,data_rfm_k4[['Cluster','customer_unique_id']], how='outer', on ='customer_unique_id')"
   ]
  },
  {
   "cell_type": "code",
   "execution_count": 100,
   "metadata": {},
   "outputs": [
    {
     "data": {
      "text/html": [
       "<div>\n",
       "<style scoped>\n",
       "    .dataframe tbody tr th:only-of-type {\n",
       "        vertical-align: middle;\n",
       "    }\n",
       "\n",
       "    .dataframe tbody tr th {\n",
       "        vertical-align: top;\n",
       "    }\n",
       "\n",
       "    .dataframe thead th {\n",
       "        text-align: right;\n",
       "    }\n",
       "</style>\n",
       "<table border=\"1\" class=\"dataframe\">\n",
       "  <thead>\n",
       "    <tr style=\"text-align: right;\">\n",
       "      <th></th>\n",
       "      <th>customer_unique_id</th>\n",
       "      <th>Recency</th>\n",
       "      <th>Frequency</th>\n",
       "      <th>MonetaryValue</th>\n",
       "      <th>recency_log</th>\n",
       "      <th>freq_log</th>\n",
       "      <th>monetary_log</th>\n",
       "      <th>Cluster</th>\n",
       "    </tr>\n",
       "  </thead>\n",
       "  <tbody>\n",
       "    <tr>\n",
       "      <th>0</th>\n",
       "      <td>0000366f3b9a7992bf8c76cfdf3221e2</td>\n",
       "      <td>112</td>\n",
       "      <td>1</td>\n",
       "      <td>141.90</td>\n",
       "      <td>4.718499</td>\n",
       "      <td>0.0</td>\n",
       "      <td>4.955123</td>\n",
       "      <td>1</td>\n",
       "    </tr>\n",
       "    <tr>\n",
       "      <th>1</th>\n",
       "      <td>0000b849f77a49e4a4ce2b2a4ca5be3f</td>\n",
       "      <td>115</td>\n",
       "      <td>1</td>\n",
       "      <td>27.19</td>\n",
       "      <td>4.744932</td>\n",
       "      <td>0.0</td>\n",
       "      <td>3.302849</td>\n",
       "      <td>3</td>\n",
       "    </tr>\n",
       "    <tr>\n",
       "      <th>2</th>\n",
       "      <td>0000f46a3911fa3c0805444483337064</td>\n",
       "      <td>537</td>\n",
       "      <td>1</td>\n",
       "      <td>86.22</td>\n",
       "      <td>6.285998</td>\n",
       "      <td>0.0</td>\n",
       "      <td>4.456902</td>\n",
       "      <td>3</td>\n",
       "    </tr>\n",
       "    <tr>\n",
       "      <th>3</th>\n",
       "      <td>0000f6ccb0745a6a4b88665a16c9f078</td>\n",
       "      <td>321</td>\n",
       "      <td>1</td>\n",
       "      <td>43.62</td>\n",
       "      <td>5.771441</td>\n",
       "      <td>0.0</td>\n",
       "      <td>3.775516</td>\n",
       "      <td>3</td>\n",
       "    </tr>\n",
       "    <tr>\n",
       "      <th>4</th>\n",
       "      <td>0004aac84e0df4da2b147fca70cf8255</td>\n",
       "      <td>288</td>\n",
       "      <td>1</td>\n",
       "      <td>196.89</td>\n",
       "      <td>5.662960</td>\n",
       "      <td>0.0</td>\n",
       "      <td>5.282645</td>\n",
       "      <td>1</td>\n",
       "    </tr>\n",
       "  </tbody>\n",
       "</table>\n",
       "</div>"
      ],
      "text/plain": [
       "                 customer_unique_id  Recency  Frequency  MonetaryValue  \\\n",
       "0  0000366f3b9a7992bf8c76cfdf3221e2      112          1         141.90   \n",
       "1  0000b849f77a49e4a4ce2b2a4ca5be3f      115          1          27.19   \n",
       "2  0000f46a3911fa3c0805444483337064      537          1          86.22   \n",
       "3  0000f6ccb0745a6a4b88665a16c9f078      321          1          43.62   \n",
       "4  0004aac84e0df4da2b147fca70cf8255      288          1         196.89   \n",
       "\n",
       "   recency_log  freq_log  monetary_log  Cluster  \n",
       "0     4.718499       0.0      4.955123        1  \n",
       "1     4.744932       0.0      3.302849        3  \n",
       "2     6.285998       0.0      4.456902        3  \n",
       "3     5.771441       0.0      3.775516        3  \n",
       "4     5.662960       0.0      5.282645        1  "
      ]
     },
     "execution_count": 100,
     "metadata": {},
     "output_type": "execute_result"
    }
   ],
   "source": [
    "result_4clusters.head()"
   ]
  },
  {
   "cell_type": "code",
   "execution_count": 101,
   "metadata": {},
   "outputs": [
    {
     "data": {
      "text/html": [
       "<div>\n",
       "<style scoped>\n",
       "    .dataframe tbody tr th:only-of-type {\n",
       "        vertical-align: middle;\n",
       "    }\n",
       "\n",
       "    .dataframe tbody tr th {\n",
       "        vertical-align: top;\n",
       "    }\n",
       "\n",
       "    .dataframe thead th {\n",
       "        text-align: right;\n",
       "    }\n",
       "</style>\n",
       "<table border=\"1\" class=\"dataframe\">\n",
       "  <thead>\n",
       "    <tr style=\"text-align: right;\">\n",
       "      <th></th>\n",
       "      <th>Recency</th>\n",
       "      <th>Frequency</th>\n",
       "      <th>MonetaryValue</th>\n",
       "      <th>customer_unique_id</th>\n",
       "    </tr>\n",
       "    <tr>\n",
       "      <th>Cluster</th>\n",
       "      <th></th>\n",
       "      <th></th>\n",
       "      <th></th>\n",
       "      <th></th>\n",
       "    </tr>\n",
       "  </thead>\n",
       "  <tbody>\n",
       "    <tr>\n",
       "      <th>0</th>\n",
       "      <td>246.6</td>\n",
       "      <td>2.6</td>\n",
       "      <td>599.2</td>\n",
       "      <td>12809</td>\n",
       "    </tr>\n",
       "    <tr>\n",
       "      <th>1</th>\n",
       "      <td>275.0</td>\n",
       "      <td>1.0</td>\n",
       "      <td>270.1</td>\n",
       "      <td>28387</td>\n",
       "    </tr>\n",
       "    <tr>\n",
       "      <th>2</th>\n",
       "      <td>40.0</td>\n",
       "      <td>1.0</td>\n",
       "      <td>135.9</td>\n",
       "      <td>14693</td>\n",
       "    </tr>\n",
       "    <tr>\n",
       "      <th>3</th>\n",
       "      <td>284.3</td>\n",
       "      <td>1.0</td>\n",
       "      <td>63.5</td>\n",
       "      <td>36193</td>\n",
       "    </tr>\n",
       "  </tbody>\n",
       "</table>\n",
       "</div>"
      ],
      "text/plain": [
       "         Recency  Frequency  MonetaryValue  customer_unique_id\n",
       "Cluster                                                       \n",
       "0          246.6        2.6          599.2               12809\n",
       "1          275.0        1.0          270.1               28387\n",
       "2           40.0        1.0          135.9               14693\n",
       "3          284.3        1.0           63.5               36193"
      ]
     },
     "execution_count": 101,
     "metadata": {},
     "output_type": "execute_result"
    }
   ],
   "source": [
    "groupe = result_4clusters.groupby(['Cluster'])\n",
    "\n",
    "# Calculate average RFM values and segment sizes per cluster value\n",
    "groupe.agg({\n",
    "    'Recency': 'mean',\n",
    "    'Frequency': 'mean',\n",
    "    'MonetaryValue': 'mean',\n",
    "    'customer_unique_id': 'count'}).round(1)"
   ]
  },
  {
   "cell_type": "markdown",
   "metadata": {},
   "source": [
    "#### now we will try with 5 clusters and choose the one who is best in variation"
   ]
  },
  {
   "cell_type": "markdown",
   "metadata": {},
   "source": [
    "## 5 clusters"
   ]
  },
  {
   "cell_type": "code",
   "execution_count": 102,
   "metadata": {},
   "outputs": [],
   "source": [
    "# Initialize KMeans\n",
    "kmeans = KMeans (n_clusters=5, random_state=1) \n",
    "\n",
    "# Fit k-means clustering on the normalized data set\n",
    "kmeans.fit(df_norm [col_names])\n",
    "\n",
    "# Extract cluster labels\n",
    "cluster_labels = kmeans.labels_"
   ]
  },
  {
   "cell_type": "code",
   "execution_count": 103,
   "metadata": {},
   "outputs": [],
   "source": [
    "data_rfm_k5 = df_norm.assign(Cluster = cluster_labels)"
   ]
  },
  {
   "cell_type": "code",
   "execution_count": 104,
   "metadata": {},
   "outputs": [
    {
     "data": {
      "text/html": [
       "<div>\n",
       "<style scoped>\n",
       "    .dataframe tbody tr th:only-of-type {\n",
       "        vertical-align: middle;\n",
       "    }\n",
       "\n",
       "    .dataframe tbody tr th {\n",
       "        vertical-align: top;\n",
       "    }\n",
       "\n",
       "    .dataframe thead th {\n",
       "        text-align: right;\n",
       "    }\n",
       "</style>\n",
       "<table border=\"1\" class=\"dataframe\">\n",
       "  <thead>\n",
       "    <tr style=\"text-align: right;\">\n",
       "      <th></th>\n",
       "      <th>customer_unique_id</th>\n",
       "      <th>recency_log</th>\n",
       "      <th>freq_log</th>\n",
       "      <th>monetary_log</th>\n",
       "      <th>Cluster</th>\n",
       "    </tr>\n",
       "  </thead>\n",
       "  <tbody>\n",
       "    <tr>\n",
       "      <th>0</th>\n",
       "      <td>0000366f3b9a7992bf8c76cfdf3221e2</td>\n",
       "      <td>-0.453533</td>\n",
       "      <td>-0.387569</td>\n",
       "      <td>0.165575</td>\n",
       "      <td>2</td>\n",
       "    </tr>\n",
       "    <tr>\n",
       "      <th>1</th>\n",
       "      <td>0000b849f77a49e4a4ce2b2a4ca5be3f</td>\n",
       "      <td>-0.425790</td>\n",
       "      <td>-0.387569</td>\n",
       "      <td>-1.635747</td>\n",
       "      <td>0</td>\n",
       "    </tr>\n",
       "    <tr>\n",
       "      <th>2</th>\n",
       "      <td>0000f46a3911fa3c0805444483337064</td>\n",
       "      <td>1.191639</td>\n",
       "      <td>-0.387569</td>\n",
       "      <td>-0.377589</td>\n",
       "      <td>0</td>\n",
       "    </tr>\n",
       "    <tr>\n",
       "      <th>3</th>\n",
       "      <td>0000f6ccb0745a6a4b88665a16c9f078</td>\n",
       "      <td>0.651585</td>\n",
       "      <td>-0.387569</td>\n",
       "      <td>-1.120442</td>\n",
       "      <td>0</td>\n",
       "    </tr>\n",
       "    <tr>\n",
       "      <th>4</th>\n",
       "      <td>0004aac84e0df4da2b147fca70cf8255</td>\n",
       "      <td>0.537729</td>\n",
       "      <td>-0.387569</td>\n",
       "      <td>0.522643</td>\n",
       "      <td>2</td>\n",
       "    </tr>\n",
       "  </tbody>\n",
       "</table>\n",
       "</div>"
      ],
      "text/plain": [
       "                 customer_unique_id  recency_log  freq_log  monetary_log  \\\n",
       "0  0000366f3b9a7992bf8c76cfdf3221e2    -0.453533 -0.387569      0.165575   \n",
       "1  0000b849f77a49e4a4ce2b2a4ca5be3f    -0.425790 -0.387569     -1.635747   \n",
       "2  0000f46a3911fa3c0805444483337064     1.191639 -0.387569     -0.377589   \n",
       "3  0000f6ccb0745a6a4b88665a16c9f078     0.651585 -0.387569     -1.120442   \n",
       "4  0004aac84e0df4da2b147fca70cf8255     0.537729 -0.387569      0.522643   \n",
       "\n",
       "   Cluster  \n",
       "0        2  \n",
       "1        0  \n",
       "2        0  \n",
       "3        0  \n",
       "4        2  "
      ]
     },
     "execution_count": 104,
     "metadata": {},
     "output_type": "execute_result"
    }
   ],
   "source": [
    "data_rfm_k5.head()"
   ]
  },
  {
   "cell_type": "code",
   "execution_count": 105,
   "metadata": {},
   "outputs": [],
   "source": [
    "result_5clusters = pd.merge(RFM_data,data_rfm_k5[['Cluster','customer_unique_id']], how='outer', on ='customer_unique_id')"
   ]
  },
  {
   "cell_type": "code",
   "execution_count": 106,
   "metadata": {},
   "outputs": [
    {
     "data": {
      "text/html": [
       "<div>\n",
       "<style scoped>\n",
       "    .dataframe tbody tr th:only-of-type {\n",
       "        vertical-align: middle;\n",
       "    }\n",
       "\n",
       "    .dataframe tbody tr th {\n",
       "        vertical-align: top;\n",
       "    }\n",
       "\n",
       "    .dataframe thead th {\n",
       "        text-align: right;\n",
       "    }\n",
       "</style>\n",
       "<table border=\"1\" class=\"dataframe\">\n",
       "  <thead>\n",
       "    <tr style=\"text-align: right;\">\n",
       "      <th></th>\n",
       "      <th>customer_unique_id</th>\n",
       "      <th>Recency</th>\n",
       "      <th>Frequency</th>\n",
       "      <th>MonetaryValue</th>\n",
       "      <th>recency_log</th>\n",
       "      <th>freq_log</th>\n",
       "      <th>monetary_log</th>\n",
       "      <th>Cluster</th>\n",
       "    </tr>\n",
       "  </thead>\n",
       "  <tbody>\n",
       "    <tr>\n",
       "      <th>0</th>\n",
       "      <td>0000366f3b9a7992bf8c76cfdf3221e2</td>\n",
       "      <td>112</td>\n",
       "      <td>1</td>\n",
       "      <td>141.90</td>\n",
       "      <td>4.718499</td>\n",
       "      <td>0.0</td>\n",
       "      <td>4.955123</td>\n",
       "      <td>2</td>\n",
       "    </tr>\n",
       "    <tr>\n",
       "      <th>1</th>\n",
       "      <td>0000b849f77a49e4a4ce2b2a4ca5be3f</td>\n",
       "      <td>115</td>\n",
       "      <td>1</td>\n",
       "      <td>27.19</td>\n",
       "      <td>4.744932</td>\n",
       "      <td>0.0</td>\n",
       "      <td>3.302849</td>\n",
       "      <td>0</td>\n",
       "    </tr>\n",
       "    <tr>\n",
       "      <th>2</th>\n",
       "      <td>0000f46a3911fa3c0805444483337064</td>\n",
       "      <td>537</td>\n",
       "      <td>1</td>\n",
       "      <td>86.22</td>\n",
       "      <td>6.285998</td>\n",
       "      <td>0.0</td>\n",
       "      <td>4.456902</td>\n",
       "      <td>0</td>\n",
       "    </tr>\n",
       "    <tr>\n",
       "      <th>3</th>\n",
       "      <td>0000f6ccb0745a6a4b88665a16c9f078</td>\n",
       "      <td>321</td>\n",
       "      <td>1</td>\n",
       "      <td>43.62</td>\n",
       "      <td>5.771441</td>\n",
       "      <td>0.0</td>\n",
       "      <td>3.775516</td>\n",
       "      <td>0</td>\n",
       "    </tr>\n",
       "    <tr>\n",
       "      <th>4</th>\n",
       "      <td>0004aac84e0df4da2b147fca70cf8255</td>\n",
       "      <td>288</td>\n",
       "      <td>1</td>\n",
       "      <td>196.89</td>\n",
       "      <td>5.662960</td>\n",
       "      <td>0.0</td>\n",
       "      <td>5.282645</td>\n",
       "      <td>2</td>\n",
       "    </tr>\n",
       "  </tbody>\n",
       "</table>\n",
       "</div>"
      ],
      "text/plain": [
       "                 customer_unique_id  Recency  Frequency  MonetaryValue  \\\n",
       "0  0000366f3b9a7992bf8c76cfdf3221e2      112          1         141.90   \n",
       "1  0000b849f77a49e4a4ce2b2a4ca5be3f      115          1          27.19   \n",
       "2  0000f46a3911fa3c0805444483337064      537          1          86.22   \n",
       "3  0000f6ccb0745a6a4b88665a16c9f078      321          1          43.62   \n",
       "4  0004aac84e0df4da2b147fca70cf8255      288          1         196.89   \n",
       "\n",
       "   recency_log  freq_log  monetary_log  Cluster  \n",
       "0     4.718499       0.0      4.955123        2  \n",
       "1     4.744932       0.0      3.302849        0  \n",
       "2     6.285998       0.0      4.456902        0  \n",
       "3     5.771441       0.0      3.775516        0  \n",
       "4     5.662960       0.0      5.282645        2  "
      ]
     },
     "execution_count": 106,
     "metadata": {},
     "output_type": "execute_result"
    }
   ],
   "source": [
    "result_5clusters.head()"
   ]
  },
  {
   "cell_type": "code",
   "execution_count": 107,
   "metadata": {},
   "outputs": [
    {
     "data": {
      "text/html": [
       "<div>\n",
       "<style scoped>\n",
       "    .dataframe tbody tr th:only-of-type {\n",
       "        vertical-align: middle;\n",
       "    }\n",
       "\n",
       "    .dataframe tbody tr th {\n",
       "        vertical-align: top;\n",
       "    }\n",
       "\n",
       "    .dataframe thead th {\n",
       "        text-align: right;\n",
       "    }\n",
       "</style>\n",
       "<table border=\"1\" class=\"dataframe\">\n",
       "  <thead>\n",
       "    <tr style=\"text-align: right;\">\n",
       "      <th></th>\n",
       "      <th>Recency</th>\n",
       "      <th>Frequency</th>\n",
       "      <th>MonetaryValue</th>\n",
       "      <th>customer_unique_id</th>\n",
       "    </tr>\n",
       "    <tr>\n",
       "      <th>Cluster</th>\n",
       "      <th></th>\n",
       "      <th></th>\n",
       "      <th></th>\n",
       "      <th></th>\n",
       "    </tr>\n",
       "  </thead>\n",
       "  <tbody>\n",
       "    <tr>\n",
       "      <th>0</th>\n",
       "      <td>284.6</td>\n",
       "      <td>1.0</td>\n",
       "      <td>64.3</td>\n",
       "      <td>36332</td>\n",
       "    </tr>\n",
       "    <tr>\n",
       "      <th>1</th>\n",
       "      <td>229.8</td>\n",
       "      <td>4.4</td>\n",
       "      <td>1495.8</td>\n",
       "      <td>2989</td>\n",
       "    </tr>\n",
       "    <tr>\n",
       "      <th>2</th>\n",
       "      <td>274.2</td>\n",
       "      <td>1.0</td>\n",
       "      <td>272.8</td>\n",
       "      <td>27936</td>\n",
       "    </tr>\n",
       "    <tr>\n",
       "      <th>3</th>\n",
       "      <td>39.9</td>\n",
       "      <td>1.0</td>\n",
       "      <td>136.0</td>\n",
       "      <td>14590</td>\n",
       "    </tr>\n",
       "    <tr>\n",
       "      <th>4</th>\n",
       "      <td>251.6</td>\n",
       "      <td>2.1</td>\n",
       "      <td>315.1</td>\n",
       "      <td>10235</td>\n",
       "    </tr>\n",
       "  </tbody>\n",
       "</table>\n",
       "</div>"
      ],
      "text/plain": [
       "         Recency  Frequency  MonetaryValue  customer_unique_id\n",
       "Cluster                                                       \n",
       "0          284.6        1.0           64.3               36332\n",
       "1          229.8        4.4         1495.8                2989\n",
       "2          274.2        1.0          272.8               27936\n",
       "3           39.9        1.0          136.0               14590\n",
       "4          251.6        2.1          315.1               10235"
      ]
     },
     "execution_count": 107,
     "metadata": {},
     "output_type": "execute_result"
    }
   ],
   "source": [
    "groupe = result_5clusters.groupby(['Cluster'])\n",
    "\n",
    "# Calculate average RFM values and segment sizes per cluster value\n",
    "groupe.agg({\n",
    "    'Recency': 'mean',\n",
    "    'Frequency': 'mean',\n",
    "    'MonetaryValue': 'mean',\n",
    "    'customer_unique_id': 'count'}).round(1)"
   ]
  },
  {
   "cell_type": "markdown",
   "metadata": {},
   "source": [
    "* cluster 3 have smallest recency but did not spend much money they may be new customers >> new_customer.\n",
    "* cluster 0 have largest recency and smallest monetary value I think they churned >> Risk to churne.\n",
    "* cluster 1 have intermediate recency  and largest frequency and largest monetaryvalue >> active_customer.\n",
    "* cluster 2 have large recency , small frequency and small monetaryvalue >> not_active_customer.\n",
    "* cluster 4 have intermediate recency and intermediate frequency and intermediate monetaryvalue >> intermediate_customer."
   ]
  },
  {
   "cell_type": "markdown",
   "metadata": {},
   "source": [
    "#### Rename clusters in result data with new names"
   ]
  },
  {
   "cell_type": "code",
   "execution_count": 108,
   "metadata": {},
   "outputs": [],
   "source": [
    "result_5clusters['Cluster'].replace(0,\"risk to churn\", inplace = True)\n",
    "result_5clusters['Cluster'].replace(1,\"active_customer\", inplace = True)\n",
    "result_5clusters['Cluster'].replace(2,\"not_active_customer\", inplace = True)\n",
    "result_5clusters['Cluster'].replace(3,\"new_customer\", inplace = True)\n",
    "result_5clusters['Cluster'].replace(4,\"intermediate_customer\", inplace = True)\n"
   ]
  },
  {
   "cell_type": "code",
   "execution_count": 109,
   "metadata": {},
   "outputs": [
    {
     "data": {
      "text/plain": [
       "risk to churn            36332\n",
       "not_active_customer      27936\n",
       "new_customer             14590\n",
       "intermediate_customer    10235\n",
       "active_customer           2989\n",
       "Name: Cluster, dtype: int64"
      ]
     },
     "execution_count": 109,
     "metadata": {},
     "output_type": "execute_result"
    }
   ],
   "source": [
    "result_5clusters.Cluster.value_counts()"
   ]
  },
  {
   "cell_type": "code",
   "execution_count": 110,
   "metadata": {},
   "outputs": [],
   "source": [
    "result_5clusters.to_csv(\"5_clusters.csv\",index=False)"
   ]
  },
  {
   "cell_type": "markdown",
   "metadata": {},
   "source": [
    "## Data analysis by clusters"
   ]
  },
  {
   "cell_type": "code",
   "execution_count": 111,
   "metadata": {},
   "outputs": [],
   "source": [
    "olist_data = pd.merge(olist_data, result_5clusters[['Cluster','customer_unique_id']] , \n",
    "                      on = 'customer_unique_id',  how = 'outer')"
   ]
  },
  {
   "cell_type": "code",
   "execution_count": 112,
   "metadata": {},
   "outputs": [
    {
     "data": {
      "text/html": [
       "<div>\n",
       "<style scoped>\n",
       "    .dataframe tbody tr th:only-of-type {\n",
       "        vertical-align: middle;\n",
       "    }\n",
       "\n",
       "    .dataframe tbody tr th {\n",
       "        vertical-align: top;\n",
       "    }\n",
       "\n",
       "    .dataframe thead th {\n",
       "        text-align: right;\n",
       "    }\n",
       "</style>\n",
       "<table border=\"1\" class=\"dataframe\">\n",
       "  <thead>\n",
       "    <tr style=\"text-align: right;\">\n",
       "      <th></th>\n",
       "      <th>customer_id</th>\n",
       "      <th>customer_unique_id</th>\n",
       "      <th>customer_city</th>\n",
       "      <th>customer_state</th>\n",
       "      <th>order_id</th>\n",
       "      <th>order_status</th>\n",
       "      <th>order_purchase_timestamp</th>\n",
       "      <th>order_approved_at</th>\n",
       "      <th>order_delivered_customer_date</th>\n",
       "      <th>order_estimated_delivery_date</th>\n",
       "      <th>...</th>\n",
       "      <th>product_weight_g</th>\n",
       "      <th>product_length_cm</th>\n",
       "      <th>product_height_cm</th>\n",
       "      <th>product_width_cm</th>\n",
       "      <th>payment_sequential</th>\n",
       "      <th>payment_type</th>\n",
       "      <th>payment_installments</th>\n",
       "      <th>payment_value</th>\n",
       "      <th>product_category_name_english</th>\n",
       "      <th>Cluster</th>\n",
       "    </tr>\n",
       "  </thead>\n",
       "  <tbody>\n",
       "    <tr>\n",
       "      <th>0</th>\n",
       "      <td>06b8999e2fba1a1fbc88172c00ba8bc7</td>\n",
       "      <td>861eff4711a542e4b93843c6dd7febb0</td>\n",
       "      <td>franca</td>\n",
       "      <td>SP</td>\n",
       "      <td>00e7ee1b050b8499577073aeb2a297a1</td>\n",
       "      <td>delivered</td>\n",
       "      <td>2017-05-16 15:05:35</td>\n",
       "      <td>2017-05-16 15:22:12</td>\n",
       "      <td>2017-05-25 10:35:35</td>\n",
       "      <td>2017-06-05</td>\n",
       "      <td>...</td>\n",
       "      <td>8683.0</td>\n",
       "      <td>54.0</td>\n",
       "      <td>64.0</td>\n",
       "      <td>31.0</td>\n",
       "      <td>1</td>\n",
       "      <td>credit_card</td>\n",
       "      <td>2</td>\n",
       "      <td>146.87</td>\n",
       "      <td>office_furniture</td>\n",
       "      <td>not_active_customer</td>\n",
       "    </tr>\n",
       "    <tr>\n",
       "      <th>1</th>\n",
       "      <td>8912fc0c3bbf1e2fbf35819e21706718</td>\n",
       "      <td>9eae34bbd3a474ec5d07949ca7de67c0</td>\n",
       "      <td>santarem</td>\n",
       "      <td>PA</td>\n",
       "      <td>c1d2b34febe9cd269e378117d6681172</td>\n",
       "      <td>delivered</td>\n",
       "      <td>2017-11-09 00:50:13</td>\n",
       "      <td>2017-11-10 00:47:48</td>\n",
       "      <td>2017-11-28 00:09:50</td>\n",
       "      <td>2017-12-19</td>\n",
       "      <td>...</td>\n",
       "      <td>8683.0</td>\n",
       "      <td>54.0</td>\n",
       "      <td>64.0</td>\n",
       "      <td>31.0</td>\n",
       "      <td>1</td>\n",
       "      <td>credit_card</td>\n",
       "      <td>1</td>\n",
       "      <td>275.79</td>\n",
       "      <td>office_furniture</td>\n",
       "      <td>intermediate_customer</td>\n",
       "    </tr>\n",
       "    <tr>\n",
       "      <th>2</th>\n",
       "      <td>8912fc0c3bbf1e2fbf35819e21706718</td>\n",
       "      <td>9eae34bbd3a474ec5d07949ca7de67c0</td>\n",
       "      <td>santarem</td>\n",
       "      <td>PA</td>\n",
       "      <td>c1d2b34febe9cd269e378117d6681172</td>\n",
       "      <td>delivered</td>\n",
       "      <td>2017-11-09 00:50:13</td>\n",
       "      <td>2017-11-10 00:47:48</td>\n",
       "      <td>2017-11-28 00:09:50</td>\n",
       "      <td>2017-12-19</td>\n",
       "      <td>...</td>\n",
       "      <td>8683.0</td>\n",
       "      <td>54.0</td>\n",
       "      <td>64.0</td>\n",
       "      <td>31.0</td>\n",
       "      <td>1</td>\n",
       "      <td>credit_card</td>\n",
       "      <td>1</td>\n",
       "      <td>275.79</td>\n",
       "      <td>office_furniture</td>\n",
       "      <td>intermediate_customer</td>\n",
       "    </tr>\n",
       "    <tr>\n",
       "      <th>3</th>\n",
       "      <td>f0ac8e5a239118859b1734e1087cbb1f</td>\n",
       "      <td>3c799d181c34d51f6d44bbbc563024db</td>\n",
       "      <td>nova santa rita</td>\n",
       "      <td>RS</td>\n",
       "      <td>b1a5d5365d330d10485e0203d54ab9e8</td>\n",
       "      <td>delivered</td>\n",
       "      <td>2017-05-07 20:11:26</td>\n",
       "      <td>2017-05-08 22:22:56</td>\n",
       "      <td>2017-05-26 09:54:04</td>\n",
       "      <td>2017-06-12</td>\n",
       "      <td>...</td>\n",
       "      <td>8683.0</td>\n",
       "      <td>54.0</td>\n",
       "      <td>64.0</td>\n",
       "      <td>31.0</td>\n",
       "      <td>1</td>\n",
       "      <td>credit_card</td>\n",
       "      <td>7</td>\n",
       "      <td>140.61</td>\n",
       "      <td>office_furniture</td>\n",
       "      <td>not_active_customer</td>\n",
       "    </tr>\n",
       "    <tr>\n",
       "      <th>4</th>\n",
       "      <td>6bc8d08963a135220ed6c6d098831f84</td>\n",
       "      <td>23397e992b09769faf5e66f9e171a241</td>\n",
       "      <td>mage</td>\n",
       "      <td>RJ</td>\n",
       "      <td>2e604b3614664aa66867856dba7e61b7</td>\n",
       "      <td>delivered</td>\n",
       "      <td>2018-02-03 19:45:40</td>\n",
       "      <td>2018-02-04 22:29:19</td>\n",
       "      <td>2018-02-28 21:09:00</td>\n",
       "      <td>2018-03-22</td>\n",
       "      <td>...</td>\n",
       "      <td>8683.0</td>\n",
       "      <td>54.0</td>\n",
       "      <td>64.0</td>\n",
       "      <td>31.0</td>\n",
       "      <td>1</td>\n",
       "      <td>credit_card</td>\n",
       "      <td>10</td>\n",
       "      <td>137.58</td>\n",
       "      <td>office_furniture</td>\n",
       "      <td>not_active_customer</td>\n",
       "    </tr>\n",
       "    <tr>\n",
       "      <th>5</th>\n",
       "      <td>fd3a0b1bd209f0e7d420c9c3d1127613</td>\n",
       "      <td>567ab47ca4deb92d46dbf54dce07d0a7</td>\n",
       "      <td>angelina</td>\n",
       "      <td>SC</td>\n",
       "      <td>574fe1739f65af76badd0999db300b4f</td>\n",
       "      <td>delivered</td>\n",
       "      <td>2017-03-23 15:10:17</td>\n",
       "      <td>2017-03-23 15:25:11</td>\n",
       "      <td>2017-04-11 10:16:56</td>\n",
       "      <td>2017-04-24</td>\n",
       "      <td>...</td>\n",
       "      <td>8683.0</td>\n",
       "      <td>54.0</td>\n",
       "      <td>64.0</td>\n",
       "      <td>31.0</td>\n",
       "      <td>1</td>\n",
       "      <td>credit_card</td>\n",
       "      <td>5</td>\n",
       "      <td>142.05</td>\n",
       "      <td>office_furniture</td>\n",
       "      <td>not_active_customer</td>\n",
       "    </tr>\n",
       "    <tr>\n",
       "      <th>6</th>\n",
       "      <td>fbd40c083aa8cddebb5265b2ba6aaf2e</td>\n",
       "      <td>f40ab89b622248b7ca125af4b486b887</td>\n",
       "      <td>contagem</td>\n",
       "      <td>MG</td>\n",
       "      <td>e0b26f14d2bcc710bb02f77a4628763b</td>\n",
       "      <td>delivered</td>\n",
       "      <td>2017-05-16 10:00:49</td>\n",
       "      <td>2017-05-17 03:45:27</td>\n",
       "      <td>2017-05-29 12:04:19</td>\n",
       "      <td>2017-06-07</td>\n",
       "      <td>...</td>\n",
       "      <td>8683.0</td>\n",
       "      <td>54.0</td>\n",
       "      <td>64.0</td>\n",
       "      <td>31.0</td>\n",
       "      <td>1</td>\n",
       "      <td>boleto</td>\n",
       "      <td>1</td>\n",
       "      <td>155.70</td>\n",
       "      <td>office_furniture</td>\n",
       "      <td>not_active_customer</td>\n",
       "    </tr>\n",
       "    <tr>\n",
       "      <th>7</th>\n",
       "      <td>10558ef4afea173bfb5e2cbe3d5b0bb5</td>\n",
       "      <td>749943913a9851a39c9baf51877fbab6</td>\n",
       "      <td>varzea grande</td>\n",
       "      <td>MT</td>\n",
       "      <td>eaae5bd20fb15d85aa673d9b7c0e8ca5</td>\n",
       "      <td>delivered</td>\n",
       "      <td>2017-03-18 23:04:36</td>\n",
       "      <td>2017-03-18 23:04:36</td>\n",
       "      <td>2017-05-30 09:19:58</td>\n",
       "      <td>2017-04-27</td>\n",
       "      <td>...</td>\n",
       "      <td>8683.0</td>\n",
       "      <td>54.0</td>\n",
       "      <td>64.0</td>\n",
       "      <td>31.0</td>\n",
       "      <td>1</td>\n",
       "      <td>credit_card</td>\n",
       "      <td>2</td>\n",
       "      <td>148.33</td>\n",
       "      <td>office_furniture</td>\n",
       "      <td>not_active_customer</td>\n",
       "    </tr>\n",
       "    <tr>\n",
       "      <th>8</th>\n",
       "      <td>1c37c0f0cd1d88d46d9fc9494762abbd</td>\n",
       "      <td>432ecfa8b7b7ad2663c7abed0dc83c51</td>\n",
       "      <td>belo horizonte</td>\n",
       "      <td>MG</td>\n",
       "      <td>c4e2bd2043fbd75b325a47adfabf0d77</td>\n",
       "      <td>delivered</td>\n",
       "      <td>2018-03-15 07:45:10</td>\n",
       "      <td>2018-03-15 07:55:24</td>\n",
       "      <td>2018-04-05 12:37:25</td>\n",
       "      <td>2018-04-19</td>\n",
       "      <td>...</td>\n",
       "      <td>8683.0</td>\n",
       "      <td>54.0</td>\n",
       "      <td>64.0</td>\n",
       "      <td>31.0</td>\n",
       "      <td>1</td>\n",
       "      <td>credit_card</td>\n",
       "      <td>3</td>\n",
       "      <td>150.07</td>\n",
       "      <td>office_furniture</td>\n",
       "      <td>not_active_customer</td>\n",
       "    </tr>\n",
       "    <tr>\n",
       "      <th>9</th>\n",
       "      <td>20a452f528d487411fd7d3ebda1d0f20</td>\n",
       "      <td>31318a0597cd9d50ce4cfd03c80fe780</td>\n",
       "      <td>santa rita do sapucai</td>\n",
       "      <td>MG</td>\n",
       "      <td>1c7fe02ac4c7be50c59afb295cf85b89</td>\n",
       "      <td>delivered</td>\n",
       "      <td>2018-01-26 13:22:09</td>\n",
       "      <td>2018-01-30 03:47:31</td>\n",
       "      <td>2018-02-20 14:18:51</td>\n",
       "      <td>2018-03-12</td>\n",
       "      <td>...</td>\n",
       "      <td>8683.0</td>\n",
       "      <td>54.0</td>\n",
       "      <td>64.0</td>\n",
       "      <td>31.0</td>\n",
       "      <td>1</td>\n",
       "      <td>boleto</td>\n",
       "      <td>1</td>\n",
       "      <td>257.50</td>\n",
       "      <td>office_furniture</td>\n",
       "      <td>intermediate_customer</td>\n",
       "    </tr>\n",
       "  </tbody>\n",
       "</table>\n",
       "<p>10 rows × 31 columns</p>\n",
       "</div>"
      ],
      "text/plain": [
       "                        customer_id                customer_unique_id  \\\n",
       "0  06b8999e2fba1a1fbc88172c00ba8bc7  861eff4711a542e4b93843c6dd7febb0   \n",
       "1  8912fc0c3bbf1e2fbf35819e21706718  9eae34bbd3a474ec5d07949ca7de67c0   \n",
       "2  8912fc0c3bbf1e2fbf35819e21706718  9eae34bbd3a474ec5d07949ca7de67c0   \n",
       "3  f0ac8e5a239118859b1734e1087cbb1f  3c799d181c34d51f6d44bbbc563024db   \n",
       "4  6bc8d08963a135220ed6c6d098831f84  23397e992b09769faf5e66f9e171a241   \n",
       "5  fd3a0b1bd209f0e7d420c9c3d1127613  567ab47ca4deb92d46dbf54dce07d0a7   \n",
       "6  fbd40c083aa8cddebb5265b2ba6aaf2e  f40ab89b622248b7ca125af4b486b887   \n",
       "7  10558ef4afea173bfb5e2cbe3d5b0bb5  749943913a9851a39c9baf51877fbab6   \n",
       "8  1c37c0f0cd1d88d46d9fc9494762abbd  432ecfa8b7b7ad2663c7abed0dc83c51   \n",
       "9  20a452f528d487411fd7d3ebda1d0f20  31318a0597cd9d50ce4cfd03c80fe780   \n",
       "\n",
       "           customer_city customer_state                          order_id  \\\n",
       "0                 franca             SP  00e7ee1b050b8499577073aeb2a297a1   \n",
       "1               santarem             PA  c1d2b34febe9cd269e378117d6681172   \n",
       "2               santarem             PA  c1d2b34febe9cd269e378117d6681172   \n",
       "3        nova santa rita             RS  b1a5d5365d330d10485e0203d54ab9e8   \n",
       "4                   mage             RJ  2e604b3614664aa66867856dba7e61b7   \n",
       "5               angelina             SC  574fe1739f65af76badd0999db300b4f   \n",
       "6               contagem             MG  e0b26f14d2bcc710bb02f77a4628763b   \n",
       "7          varzea grande             MT  eaae5bd20fb15d85aa673d9b7c0e8ca5   \n",
       "8         belo horizonte             MG  c4e2bd2043fbd75b325a47adfabf0d77   \n",
       "9  santa rita do sapucai             MG  1c7fe02ac4c7be50c59afb295cf85b89   \n",
       "\n",
       "  order_status order_purchase_timestamp   order_approved_at  \\\n",
       "0    delivered      2017-05-16 15:05:35 2017-05-16 15:22:12   \n",
       "1    delivered      2017-11-09 00:50:13 2017-11-10 00:47:48   \n",
       "2    delivered      2017-11-09 00:50:13 2017-11-10 00:47:48   \n",
       "3    delivered      2017-05-07 20:11:26 2017-05-08 22:22:56   \n",
       "4    delivered      2018-02-03 19:45:40 2018-02-04 22:29:19   \n",
       "5    delivered      2017-03-23 15:10:17 2017-03-23 15:25:11   \n",
       "6    delivered      2017-05-16 10:00:49 2017-05-17 03:45:27   \n",
       "7    delivered      2017-03-18 23:04:36 2017-03-18 23:04:36   \n",
       "8    delivered      2018-03-15 07:45:10 2018-03-15 07:55:24   \n",
       "9    delivered      2018-01-26 13:22:09 2018-01-30 03:47:31   \n",
       "\n",
       "  order_delivered_customer_date order_estimated_delivery_date  \\\n",
       "0           2017-05-25 10:35:35                    2017-06-05   \n",
       "1           2017-11-28 00:09:50                    2017-12-19   \n",
       "2           2017-11-28 00:09:50                    2017-12-19   \n",
       "3           2017-05-26 09:54:04                    2017-06-12   \n",
       "4           2018-02-28 21:09:00                    2018-03-22   \n",
       "5           2017-04-11 10:16:56                    2017-04-24   \n",
       "6           2017-05-29 12:04:19                    2017-06-07   \n",
       "7           2017-05-30 09:19:58                    2017-04-27   \n",
       "8           2018-04-05 12:37:25                    2018-04-19   \n",
       "9           2018-02-20 14:18:51                    2018-03-12   \n",
       "\n",
       "           ...           product_weight_g  product_length_cm  \\\n",
       "0          ...                     8683.0               54.0   \n",
       "1          ...                     8683.0               54.0   \n",
       "2          ...                     8683.0               54.0   \n",
       "3          ...                     8683.0               54.0   \n",
       "4          ...                     8683.0               54.0   \n",
       "5          ...                     8683.0               54.0   \n",
       "6          ...                     8683.0               54.0   \n",
       "7          ...                     8683.0               54.0   \n",
       "8          ...                     8683.0               54.0   \n",
       "9          ...                     8683.0               54.0   \n",
       "\n",
       "   product_height_cm product_width_cm payment_sequential payment_type  \\\n",
       "0               64.0             31.0                  1  credit_card   \n",
       "1               64.0             31.0                  1  credit_card   \n",
       "2               64.0             31.0                  1  credit_card   \n",
       "3               64.0             31.0                  1  credit_card   \n",
       "4               64.0             31.0                  1  credit_card   \n",
       "5               64.0             31.0                  1  credit_card   \n",
       "6               64.0             31.0                  1       boleto   \n",
       "7               64.0             31.0                  1  credit_card   \n",
       "8               64.0             31.0                  1  credit_card   \n",
       "9               64.0             31.0                  1       boleto   \n",
       "\n",
       "   payment_installments  payment_value product_category_name_english  \\\n",
       "0                     2         146.87              office_furniture   \n",
       "1                     1         275.79              office_furniture   \n",
       "2                     1         275.79              office_furniture   \n",
       "3                     7         140.61              office_furniture   \n",
       "4                    10         137.58              office_furniture   \n",
       "5                     5         142.05              office_furniture   \n",
       "6                     1         155.70              office_furniture   \n",
       "7                     2         148.33              office_furniture   \n",
       "8                     3         150.07              office_furniture   \n",
       "9                     1         257.50              office_furniture   \n",
       "\n",
       "                 Cluster  \n",
       "0    not_active_customer  \n",
       "1  intermediate_customer  \n",
       "2  intermediate_customer  \n",
       "3    not_active_customer  \n",
       "4    not_active_customer  \n",
       "5    not_active_customer  \n",
       "6    not_active_customer  \n",
       "7    not_active_customer  \n",
       "8    not_active_customer  \n",
       "9  intermediate_customer  \n",
       "\n",
       "[10 rows x 31 columns]"
      ]
     },
     "execution_count": 112,
     "metadata": {},
     "output_type": "execute_result"
    }
   ],
   "source": [
    "olist_data.head(10)"
   ]
  },
  {
   "cell_type": "code",
   "execution_count": 113,
   "metadata": {},
   "outputs": [
    {
     "data": {
      "image/png": "[encoded data removed]",
      "text/plain": [
       "<Figure size 576x360 with 1 Axes>"
      ]
     },
     "metadata": {
      "needs_background": "light"
     },
     "output_type": "display_data"
    }
   ],
   "source": [
    "plt.figure(figsize=(8,5))\n",
    "freq = olist_data.Cluster.value_counts()\n",
    "cluster_order = freq.index\n",
    "#plot a count plot using seaborn\n",
    "sns.countplot(data = olist_data , x= 'Cluster' ,  order = cluster_order , palette='mako');\n",
    "#plot title and ticks rotation\n",
    "plt.title(\"Customers Clusters\");\n",
    "plt.xticks(rotation=20)\n",
    "plt.ylabel('customer_count');"
   ]
  },
  {
   "cell_type": "markdown",
   "metadata": {},
   "source": [
    "##### a lot of customers are risk to churn "
   ]
  },
  {
   "cell_type": "markdown",
   "metadata": {},
   "source": [
    "### customer count for each cluster over the years"
   ]
  },
  {
   "cell_type": "code",
   "execution_count": 114,
   "metadata": {},
   "outputs": [
    {
     "data": {
      "image/png": "[encoded data removed]",
      "text/plain": [
       "<Figure size 648x504 with 1 Axes>"
      ]
     },
     "metadata": {
      "needs_background": "light"
     },
     "output_type": "display_data"
    }
   ],
   "source": [
    "plt.figure(figsize=(9,7))\n",
    "\n",
    "clust_year =  olist_data[['order_purchase_timestamp', 'customer_unique_id','Cluster']].copy()\n",
    "# extract years from timestamp\n",
    "clust_year['year'] = clust_year['order_purchase_timestamp'].dt.year\n",
    "# group counts of customers by year\n",
    "clust_year = clust_year.groupby(['year','Cluster'],as_index = False)['customer_unique_id'].count()\n",
    "#plotting line chart\n",
    "sns.lineplot( data= clust_year , x = \"year\" , y= 'customer_unique_id' ,hue='Cluster');\n",
    "# x ticks\n",
    "ticks = df['year'].unique()\n",
    "plt.xticks(ticks)\n",
    "plt.ylabel('customer_count');"
   ]
  },
  {
   "cell_type": "markdown",
   "metadata": {},
   "source": [
    "* new customers started purchase in 2017\n",
    "* in all clusters count of customers increase over time\n",
    "* intermediate and active customers increased from 2016 to 2017 and did not change from 2017 to 2018\n",
    "* risk to churn customers and not active decreased from 2017 to 2018"
   ]
  },
  {
   "cell_type": "markdown",
   "metadata": {},
   "source": [
    "### payment_value for each cluster over the years"
   ]
  },
  {
   "cell_type": "code",
   "execution_count": 115,
   "metadata": {},
   "outputs": [
    {
     "data": {
      "image/png": "[encoded data removed]",
      "text/plain": [
       "<Figure size 648x504 with 1 Axes>"
      ]
     },
     "metadata": {
      "needs_background": "light"
     },
     "output_type": "display_data"
    }
   ],
   "source": [
    "plt.figure(figsize=(9,7))\n",
    "\n",
    "clust_year =  olist_data[['order_purchase_timestamp', 'payment_value','Cluster']].copy()\n",
    "# extract years from timestamp\n",
    "clust_year['year'] = clust_year['order_purchase_timestamp'].dt.year\n",
    "# group counts of customers by year\n",
    "clust_year = clust_year.groupby(['year','Cluster'],as_index = False)['payment_value'].sum()\n",
    "#plotting line chart\n",
    "sns.lineplot( data= clust_year , x = \"year\" , y= 'payment_value' ,hue='Cluster');\n",
    "# x ticks\n",
    "ticks = df['year'].unique()\n",
    "plt.xticks(ticks)\n",
    "plt.ylabel('customer_count');"
   ]
  },
  {
   "cell_type": "markdown",
   "metadata": {},
   "source": [
    "* not_active customers have the largest payment value.\n",
    "* risk to churn customers have the smallest payment value.\n",
    "* new customers start pay from 2017 and increased in 2018\n",
    "* active customers have large payment value increased from 2017 to 2018\n",
    "* intermediate customers have fixed payment value from 2017 to 2018"
   ]
  },
  {
   "cell_type": "code",
   "execution_count": 116,
   "metadata": {},
   "outputs": [
    {
     "data": {
      "image/png": "[encoded data removed]",
      "text/plain": [
       "<Figure size 1080x504 with 1 Axes>"
      ]
     },
     "metadata": {
      "needs_background": "light"
     },
     "output_type": "display_data"
    }
   ],
   "source": [
    "#figure size\n",
    "plt.figure(figsize=(15,7));\n",
    "\n",
    "#plotting count plot\n",
    "sns.countplot(data = olist_data, x = 'Cluster', hue = 'review_score', palette=\"mako\");\n",
    "\n",
    "#plot title \n",
    "plt.title(\"count of gender each day of the week\");"
   ]
  },
  {
   "cell_type": "markdown",
   "metadata": {},
   "source": [
    "* most of reviews for all clusters are 5 "
   ]
  },
  {
   "cell_type": "code",
   "execution_count": 117,
   "metadata": {},
   "outputs": [
    {
     "data": {
      "image/png": "[encoded data removed]",
      "text/plain": [
       "<Figure size 1080x504 with 1 Axes>"
      ]
     },
     "metadata": {
      "needs_background": "light"
     },
     "output_type": "display_data"
    }
   ],
   "source": [
    "#figure size\n",
    "plt.figure(figsize=(15,7));\n",
    "\n",
    "#plotting count plot\n",
    "sns.countplot(data = olist_data, x = 'Cluster', hue = 'payment_type', palette=\"mako\");\n",
    "\n",
    "#plot title \n",
    "plt.title(\"count of gender each day of the week\");"
   ]
  },
  {
   "cell_type": "markdown",
   "metadata": {},
   "source": [
    "* most of customers pay using credit_card.\n",
    "* intermediate customers and active customers are the most who use debit_card.  "
   ]
  },
  {
   "cell_type": "code",
   "execution_count": null,
   "metadata": {},
   "outputs": [],
   "source": []
  }
 ],
 "metadata": {
  "kernelspec": {
   "display_name": "Python 3",
   "language": "python",
   "name": "python3"
  },
  "language_info": {
   "codemirror_mode": {
    "name": "ipython",
    "version": 3
   },
   "file_extension": ".py",
   "mimetype": "text/x-python",
   "name": "python",
   "nbconvert_exporter": "python",
   "pygments_lexer": "ipython3",
   "version": "3.7.1"
  }
 },
 "nbformat": 4,
 "nbformat_minor": 2
}
